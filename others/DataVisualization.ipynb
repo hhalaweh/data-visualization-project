{
  "nbformat": 4,
  "nbformat_minor": 0,
  "metadata": {
    "colab": {
      "name": "DataVisualization.ipynb",
      "provenance": [],
      "collapsed_sections": []
    },
    "kernelspec": {
      "name": "python3",
      "display_name": "Python 3"
    },
    "language_info": {
      "name": "python"
    }
  },
  "cells": [
    {
      "cell_type": "code",
      "metadata": {
        "colab": {
          "base_uri": "https://localhost:8080/",
          "height": 443
        },
        "id": "UlQRxVdMzo4m",
        "outputId": "705fc13f-50a7-4484-de9a-30df5e9b6334"
      },
      "source": [
        "import pandas as pd\n",
        "df = pd.read_csv(\"HeartDiseases.csv\")\n",
        "df\n"
      ],
      "execution_count": null,
      "outputs": [
        {
          "output_type": "execute_result",
          "data": {
            "text/html": [
              "<div>\n",
              "<style scoped>\n",
              "    .dataframe tbody tr th:only-of-type {\n",
              "        vertical-align: middle;\n",
              "    }\n",
              "\n",
              "    .dataframe tbody tr th {\n",
              "        vertical-align: top;\n",
              "    }\n",
              "\n",
              "    .dataframe thead th {\n",
              "        text-align: right;\n",
              "    }\n",
              "</style>\n",
              "<table border=\"1\" class=\"dataframe\">\n",
              "  <thead>\n",
              "    <tr style=\"text-align: right;\">\n",
              "      <th></th>\n",
              "      <th>ID</th>\n",
              "      <th>age</th>\n",
              "      <th>sex</th>\n",
              "      <th>cp</th>\n",
              "      <th>restbps</th>\n",
              "      <th>chol</th>\n",
              "      <th>fbs</th>\n",
              "      <th>restecg</th>\n",
              "      <th>thalack</th>\n",
              "      <th>exang</th>\n",
              "      <th>oldpeak</th>\n",
              "      <th>slope</th>\n",
              "      <th>ca</th>\n",
              "      <th>thal</th>\n",
              "      <th>outcome</th>\n",
              "    </tr>\n",
              "  </thead>\n",
              "  <tbody>\n",
              "    <tr>\n",
              "      <th>0</th>\n",
              "      <td>hdoamedhe7le8psut</td>\n",
              "      <td>63.0</td>\n",
              "      <td>1</td>\n",
              "      <td>1</td>\n",
              "      <td>145</td>\n",
              "      <td>233</td>\n",
              "      <td>1</td>\n",
              "      <td>2</td>\n",
              "      <td>150</td>\n",
              "      <td>0</td>\n",
              "      <td>2.3</td>\n",
              "      <td>3</td>\n",
              "      <td>0</td>\n",
              "      <td>6</td>\n",
              "      <td>0</td>\n",
              "    </tr>\n",
              "    <tr>\n",
              "      <th>1</th>\n",
              "      <td>hdoamedhodc3upsut</td>\n",
              "      <td>67.0</td>\n",
              "      <td>1</td>\n",
              "      <td>4</td>\n",
              "      <td>160</td>\n",
              "      <td>286</td>\n",
              "      <td>0</td>\n",
              "      <td>2</td>\n",
              "      <td>108</td>\n",
              "      <td>1</td>\n",
              "      <td>1.5</td>\n",
              "      <td>2</td>\n",
              "      <td>3</td>\n",
              "      <td>3</td>\n",
              "      <td>2</td>\n",
              "    </tr>\n",
              "    <tr>\n",
              "      <th>2</th>\n",
              "      <td>hdoamedds1byapsut</td>\n",
              "      <td>67.0</td>\n",
              "      <td>1</td>\n",
              "      <td>4</td>\n",
              "      <td>120</td>\n",
              "      <td>229</td>\n",
              "      <td>0</td>\n",
              "      <td>2</td>\n",
              "      <td>129</td>\n",
              "      <td>1</td>\n",
              "      <td>2.6</td>\n",
              "      <td>2</td>\n",
              "      <td>2</td>\n",
              "      <td>7</td>\n",
              "      <td>1</td>\n",
              "    </tr>\n",
              "    <tr>\n",
              "      <th>3</th>\n",
              "      <td>hdoamed03ldb7psut</td>\n",
              "      <td>37.0</td>\n",
              "      <td>1</td>\n",
              "      <td>3</td>\n",
              "      <td>130</td>\n",
              "      <td>250</td>\n",
              "      <td>0</td>\n",
              "      <td>0</td>\n",
              "      <td>187</td>\n",
              "      <td>0</td>\n",
              "      <td>3.5</td>\n",
              "      <td>3</td>\n",
              "      <td>0</td>\n",
              "      <td>3</td>\n",
              "      <td>0</td>\n",
              "    </tr>\n",
              "    <tr>\n",
              "      <th>4</th>\n",
              "      <td>hdoamedkixctypsut</td>\n",
              "      <td>41.0</td>\n",
              "      <td>0</td>\n",
              "      <td>2</td>\n",
              "      <td>130</td>\n",
              "      <td>204</td>\n",
              "      <td>0</td>\n",
              "      <td>2</td>\n",
              "      <td>172</td>\n",
              "      <td>0</td>\n",
              "      <td>1.4</td>\n",
              "      <td>1</td>\n",
              "      <td>0</td>\n",
              "      <td>3</td>\n",
              "      <td>0</td>\n",
              "    </tr>\n",
              "    <tr>\n",
              "      <th>...</th>\n",
              "      <td>...</td>\n",
              "      <td>...</td>\n",
              "      <td>...</td>\n",
              "      <td>...</td>\n",
              "      <td>...</td>\n",
              "      <td>...</td>\n",
              "      <td>...</td>\n",
              "      <td>...</td>\n",
              "      <td>...</td>\n",
              "      <td>...</td>\n",
              "      <td>...</td>\n",
              "      <td>...</td>\n",
              "      <td>...</td>\n",
              "      <td>...</td>\n",
              "      <td>...</td>\n",
              "    </tr>\n",
              "    <tr>\n",
              "      <th>305</th>\n",
              "      <td>hdoamed4f8a4lpsut</td>\n",
              "      <td>57.0</td>\n",
              "      <td>1</td>\n",
              "      <td>2</td>\n",
              "      <td>124</td>\n",
              "      <td>261</td>\n",
              "      <td>0</td>\n",
              "      <td>0</td>\n",
              "      <td>141</td>\n",
              "      <td>0</td>\n",
              "      <td>0.3</td>\n",
              "      <td>1</td>\n",
              "      <td>0</td>\n",
              "      <td>7</td>\n",
              "      <td>1</td>\n",
              "    </tr>\n",
              "    <tr>\n",
              "      <th>306</th>\n",
              "      <td>hdoamed5qpd5jpsut</td>\n",
              "      <td>44.0</td>\n",
              "      <td>0</td>\n",
              "      <td>3</td>\n",
              "      <td>118</td>\n",
              "      <td>242</td>\n",
              "      <td>0</td>\n",
              "      <td>0</td>\n",
              "      <td>149</td>\n",
              "      <td>0</td>\n",
              "      <td>0.3</td>\n",
              "      <td>2</td>\n",
              "      <td>1</td>\n",
              "      <td>3</td>\n",
              "      <td>0</td>\n",
              "    </tr>\n",
              "    <tr>\n",
              "      <th>307</th>\n",
              "      <td>hdoamedimjs34psut</td>\n",
              "      <td>51.0</td>\n",
              "      <td>1</td>\n",
              "      <td>3</td>\n",
              "      <td>100</td>\n",
              "      <td>222</td>\n",
              "      <td>0</td>\n",
              "      <td>0</td>\n",
              "      <td>143</td>\n",
              "      <td>1</td>\n",
              "      <td>1.2</td>\n",
              "      <td>2</td>\n",
              "      <td>0</td>\n",
              "      <td>3</td>\n",
              "      <td>0</td>\n",
              "    </tr>\n",
              "    <tr>\n",
              "      <th>308</th>\n",
              "      <td>hdoamedjkq7uepsut</td>\n",
              "      <td>55.0</td>\n",
              "      <td>1</td>\n",
              "      <td>4</td>\n",
              "      <td>140</td>\n",
              "      <td>217</td>\n",
              "      <td>0</td>\n",
              "      <td>0</td>\n",
              "      <td>111</td>\n",
              "      <td>1</td>\n",
              "      <td>5.6</td>\n",
              "      <td>3</td>\n",
              "      <td>0</td>\n",
              "      <td>7</td>\n",
              "      <td>3</td>\n",
              "    </tr>\n",
              "    <tr>\n",
              "      <th>309</th>\n",
              "      <td>hdoamedkqqptipsut</td>\n",
              "      <td>43.0</td>\n",
              "      <td>1</td>\n",
              "      <td>3</td>\n",
              "      <td>130</td>\n",
              "      <td>315</td>\n",
              "      <td>0</td>\n",
              "      <td>0</td>\n",
              "      <td>162</td>\n",
              "      <td>0</td>\n",
              "      <td>1.9</td>\n",
              "      <td>1</td>\n",
              "      <td>1</td>\n",
              "      <td>3</td>\n",
              "      <td>0</td>\n",
              "    </tr>\n",
              "  </tbody>\n",
              "</table>\n",
              "<p>310 rows × 15 columns</p>\n",
              "</div>"
            ],
            "text/plain": [
              "                    ID   age  sex  cp  restbps  ...  oldpeak  slope  ca thal  outcome\n",
              "0    hdoamedhe7le8psut  63.0    1   1      145  ...      2.3      3   0    6        0\n",
              "1    hdoamedhodc3upsut  67.0    1   4      160  ...      1.5      2   3    3        2\n",
              "2    hdoamedds1byapsut  67.0    1   4      120  ...      2.6      2   2    7        1\n",
              "3    hdoamed03ldb7psut  37.0    1   3      130  ...      3.5      3   0    3        0\n",
              "4    hdoamedkixctypsut  41.0    0   2      130  ...      1.4      1   0    3        0\n",
              "..                 ...   ...  ...  ..      ...  ...      ...    ...  ..  ...      ...\n",
              "305  hdoamed4f8a4lpsut  57.0    1   2      124  ...      0.3      1   0    7        1\n",
              "306  hdoamed5qpd5jpsut  44.0    0   3      118  ...      0.3      2   1    3        0\n",
              "307  hdoamedimjs34psut  51.0    1   3      100  ...      1.2      2   0    3        0\n",
              "308  hdoamedjkq7uepsut  55.0    1   4      140  ...      5.6      3   0    7        3\n",
              "309  hdoamedkqqptipsut  43.0    1   3      130  ...      1.9      1   1    3        0\n",
              "\n",
              "[310 rows x 15 columns]"
            ]
          },
          "metadata": {},
          "execution_count": 53
        }
      ]
    },
    {
      "cell_type": "code",
      "metadata": {
        "colab": {
          "base_uri": "https://localhost:8080/"
        },
        "id": "Yrtx8cfRAWdb",
        "outputId": "62de404a-358b-43f9-8151-7ce96d7b463f"
      },
      "source": [
        "df.describe"
      ],
      "execution_count": null,
      "outputs": [
        {
          "output_type": "execute_result",
          "data": {
            "text/plain": [
              "<bound method NDFrame.describe of                     ID   age  sex  cp  restbps  ...  oldpeak  slope  ca thal  outcome\n",
              "0    hdoamedhe7le8psut  63.0    1   1      145  ...      2.3      3   0    6        0\n",
              "1    hdoamedhodc3upsut  67.0    1   4      160  ...      1.5      2   3    3        2\n",
              "2    hdoamedds1byapsut  67.0    1   4      120  ...      2.6      2   2    7        1\n",
              "3    hdoamed03ldb7psut  37.0    1   3      130  ...      3.5      3   0    3        0\n",
              "4    hdoamedkixctypsut  41.0    0   2      130  ...      1.4      1   0    3        0\n",
              "..                 ...   ...  ...  ..      ...  ...      ...    ...  ..  ...      ...\n",
              "305  hdoamed4f8a4lpsut  57.0    1   2      124  ...      0.3      1   0    7        1\n",
              "306  hdoamed5qpd5jpsut  44.0    0   3      118  ...      0.3      2   1    3        0\n",
              "307  hdoamedimjs34psut  51.0    1   3      100  ...      1.2      2   0    3        0\n",
              "308  hdoamedjkq7uepsut  55.0    1   4      140  ...      5.6      3   0    7        3\n",
              "309  hdoamedkqqptipsut  43.0    1   3      130  ...      1.9      1   1    3        0\n",
              "\n",
              "[310 rows x 15 columns]>"
            ]
          },
          "metadata": {},
          "execution_count": 86
        }
      ]
    },
    {
      "cell_type": "code",
      "metadata": {
        "colab": {
          "base_uri": "https://localhost:8080/"
        },
        "id": "DZlnPRmLAZes",
        "outputId": "eabddca4-29d8-4ce9-cb1f-b71c06b94cc4"
      },
      "source": [
        "df.info()"
      ],
      "execution_count": null,
      "outputs": [
        {
          "output_type": "stream",
          "name": "stdout",
          "text": [
            "<class 'pandas.core.frame.DataFrame'>\n",
            "RangeIndex: 310 entries, 0 to 309\n",
            "Data columns (total 15 columns):\n",
            " #   Column   Non-Null Count  Dtype  \n",
            "---  ------   --------------  -----  \n",
            " 0   ID       310 non-null    object \n",
            " 1   age      310 non-null    float64\n",
            " 2   sex      310 non-null    int64  \n",
            " 3   cp       310 non-null    int64  \n",
            " 4   restbps  310 non-null    int64  \n",
            " 5   chol     310 non-null    int64  \n",
            " 6   fbs      310 non-null    int64  \n",
            " 7   restecg  310 non-null    int64  \n",
            " 8   thalack  310 non-null    object \n",
            " 9   exang    310 non-null    int64  \n",
            " 10  oldpeak  310 non-null    float64\n",
            " 11  slope    310 non-null    int64  \n",
            " 12  ca       310 non-null    object \n",
            " 13  thal     310 non-null    object \n",
            " 14  outcome  310 non-null    int64  \n",
            "dtypes: float64(2), int64(9), object(4)\n",
            "memory usage: 36.5+ KB\n"
          ]
        }
      ]
    },
    {
      "cell_type": "code",
      "metadata": {
        "colab": {
          "base_uri": "https://localhost:8080/"
        },
        "id": "xKRfwSBn0hNS",
        "outputId": "e183cfa1-82c6-413f-b84f-0a38ead97e64"
      },
      "source": [
        "print(df.dtypes)\n",
        "\n",
        "#the things that are objects are mostly typos in the input"
      ],
      "execution_count": null,
      "outputs": [
        {
          "output_type": "stream",
          "name": "stdout",
          "text": [
            "ID          object\n",
            "age        float64\n",
            "sex          int64\n",
            "cp           int64\n",
            "restbps      int64\n",
            "chol         int64\n",
            "fbs          int64\n",
            "restecg      int64\n",
            "thalack     object\n",
            "exang        int64\n",
            "oldpeak    float64\n",
            "slope        int64\n",
            "ca          object\n",
            "thal        object\n",
            "outcome      int64\n",
            "dtype: object\n"
          ]
        }
      ]
    },
    {
      "cell_type": "code",
      "metadata": {
        "colab": {
          "base_uri": "https://localhost:8080/"
        },
        "id": "Ydiu3GME1ydh",
        "outputId": "628f2f86-0a61-4531-98c7-f493e49d60ed"
      },
      "source": [
        "nan_values = df.isna()\n",
        "nan_columns = nan_values.any()\n",
        "\n",
        "columns_with_nan = df.columns[nan_columns].tolist()\n",
        "print(columns_with_nan)"
      ],
      "execution_count": null,
      "outputs": [
        {
          "output_type": "stream",
          "name": "stdout",
          "text": [
            "[]\n"
          ]
        }
      ]
    },
    {
      "cell_type": "code",
      "metadata": {
        "colab": {
          "base_uri": "https://localhost:8080/"
        },
        "id": "j5L4UOdh164z",
        "outputId": "4c89c52b-c390-4b05-88cf-45320b12c0cd"
      },
      "source": [
        "df.shape"
      ],
      "execution_count": null,
      "outputs": [
        {
          "output_type": "execute_result",
          "data": {
            "text/plain": [
              "(310, 15)"
            ]
          },
          "metadata": {},
          "execution_count": 56
        }
      ]
    },
    {
      "cell_type": "code",
      "metadata": {
        "colab": {
          "base_uri": "https://localhost:8080/"
        },
        "id": "Z36W6L342u3m",
        "outputId": "c474735e-1c52-43e0-e7a1-aea820d75ef8"
      },
      "source": [
        "vlist = df[df.duplicated(['ID'], keep=False)]\n",
        "print(vlist)\n",
        "print(len(vlist))"
      ],
      "execution_count": null,
      "outputs": [
        {
          "output_type": "stream",
          "name": "stdout",
          "text": [
            "                    ID   age  sex  cp  restbps  ...  oldpeak  slope  ca thal  outcome\n",
            "97   hdoamedt0eof5psut  60.0    0   4      150  ...      2.6      2   2    7        3\n",
            "122  hdoamedimjs34psut  51.0    1   3      100  ...      1.2      2   0    3        0\n",
            "123  hdoamedjkq7uepsut  55.0    1   4      140  ...      5.6      3   0    7        3\n",
            "177  hdoamed5iw95ypsut  56.0    1   4      132  ...      2.1      2   1    6        1\n",
            "178  hdoamedkqqptipsut  43.0    1   3      130  ...      1.9      1   1    3        0\n",
            "259  hdoamed4f8a4lpsut  57.0    1   2      124  ...      0.3      1   0    7        1\n",
            "260  hdoamed5qpd5jpsut  44.0    0   3      118  ...      0.3      2   1    3        0\n",
            "303  hdoamedt0eof5psut  60.0    0   4      150  ...      2.6      2   2    7        3\n",
            "304  hdoamed5iw95ypsut  56.0    1   4      132  ...      2.1      2   1    6        1\n",
            "305  hdoamed4f8a4lpsut  57.0    1   2      124  ...      0.3      1   0    7        1\n",
            "306  hdoamed5qpd5jpsut  44.0    0   3      118  ...      0.3      2   1    3        0\n",
            "307  hdoamedimjs34psut  51.0    1   3      100  ...      1.2      2   0    3        0\n",
            "308  hdoamedjkq7uepsut  55.0    1   4      140  ...      5.6      3   0    7        3\n",
            "309  hdoamedkqqptipsut  43.0    1   3      130  ...      1.9      1   1    3        0\n",
            "\n",
            "[14 rows x 15 columns]\n",
            "14\n"
          ]
        }
      ]
    },
    {
      "cell_type": "code",
      "metadata": {
        "colab": {
          "base_uri": "https://localhost:8080/"
        },
        "id": "a2GEZlCt225U",
        "outputId": "5aeb0652-dd10-4581-b194-682fa9bb69e3"
      },
      "source": [
        "df.shape"
      ],
      "execution_count": null,
      "outputs": [
        {
          "output_type": "execute_result",
          "data": {
            "text/plain": [
              "(310, 15)"
            ]
          },
          "metadata": {},
          "execution_count": 58
        }
      ]
    },
    {
      "cell_type": "code",
      "metadata": {
        "colab": {
          "base_uri": "https://localhost:8080/"
        },
        "id": "zHNUcRFx294f",
        "outputId": "a00bcd39-1b4f-4344-8eb5-7474df15b7ad"
      },
      "source": [
        "df['sex'].unique()"
      ],
      "execution_count": null,
      "outputs": [
        {
          "output_type": "execute_result",
          "data": {
            "text/plain": [
              "array([1, 0])"
            ]
          },
          "metadata": {},
          "execution_count": 59
        }
      ]
    },
    {
      "cell_type": "code",
      "metadata": {
        "colab": {
          "base_uri": "https://localhost:8080/"
        },
        "id": "mRmRfWSN3h3i",
        "outputId": "940dbe6c-da4f-41e7-8da0-cafaea167c9d"
      },
      "source": [
        "unique_values = set()\n",
        "for col in df:\n",
        "    unique_values.update(df[col])\n",
        "\n",
        "print(unique_values)"
      ],
      "execution_count": null,
      "outputs": [
        {
          "output_type": "stream",
          "name": "stdout",
          "text": [
            "{'hdoamedxxgluepsut', 1, 0, 3, 4, 5.7, 2, '126', '95', 2.3, 1.5, 3.5, '125', 0.5, 2.5, 6.2, 29.0, 34.0, 35.0, 37.0, 38.0, 39.0, 40.0, 'hdoamedgbom2hpsut', 'hdoameda9d2x2psut', 'hdoamedcvu5y0psut', 'hdoamedwiybjbpsut', 41.0, 44.0, 43.0, 48.0, 49.0, 'hdoamed3wiffepsut', 50.0, 52.0, 'hdoamedr6pt29psut', 53.0, 54.0, 'hdoamedjcmthhpsut', 56.0, 57.0, 58.0, 60.0, 'hdoamedupe13hpsut', 62.0, 63.0, 64.0, 59.0, 66.0, 'hdoamedoe9ez8psut', 67.0, 69.0, 61.0, 65.0, 71.0, 68.0, 70.0, 74.0, 76.0, 77.0, '150', 'hdoamedeybxeqpsut', 'hdoamedsl6342psut', 94, 100, 101, 'hdoamedfony13psut', 102, 104, 105, 106, 108, '114', 110, 112, 'hdoamed5qpd5jpsut', 114, 115, 'hdoamedh727sbpsut', 117, 118, 120, 122, 123, 124, 125, 'hdoamed8a4l5qpsut', 126, 128, 129, 130, 131, 'hdoamedn6w7acpsut', 132, 134, 'hdoamedlnhy94psut', 135, 'hdoamedycwz96psut', 'hdoamed95igvkpsut', 138, 140, 136, 142, 141, 'hdoamedll4aj2psut', 145, 144, 146, 148, 149, 150, 152, '121', 154, 155, 156, 157, 'hdoamedxctyv3psut', 158, 160, 'hdoamede640dbpsut', 'hdoamedn9erxppsut', 165, 164, 167, 168, 166, 170, 169, 'hdoamedq7uepbpsut', 172, 174, 175, 176, 177, 178, '141', 180, '97', 182, 183, 'hdoamed4kg12ppsut', 185, 186, 184, 188, 'hdoamedtr7m37psut', 187, 192, 193, 195, 196, 197, 'hdoamed295p0dpsut', 199, 200, 198, 'hdoamedkixctypsut', 203, 204, 201, 206, 'hdoamedzrdaa9psut', 208, 209, 205, 'hdoamedau5iw9psut', 'hdoamed96u4llpsut', 42.0, 211, 212, 213, 216, 217, 219, 220, 221, 'hdoamedjat87rpsut', 222, 224, 225, 226, 45.0, 227, 229, 230, 231, 46.0, 233, 234, 232, 236, 47.0, 235, 239, 240, 237, 242, 243, 244, 245, 246, 247, 248, 249, 250, '2', 252, 253, 'hdoamedac6n7spsut', 254, 256, 51.0, 258, 'hdoamedbzf4bfpsut', 257, 255, 260, 263, 264, 'hdoameduv295ppsut', 266, 'hdoamedpk9wycpsut', 268, 269, 267, 270, 265, 273, 274, 275, 276, 'hdoamedgtzrdapsut', 55.0, 277, 271, 281, 282, 283, 284, 'hdoamedjuwytapsut', 'hdoamed58qhgbpsut', 'hdoamedai65xxpsut', 286, 288, 290, 289, '165', 293, 294, 295, '1,71', '192', 298, 299, 'hdoamed3uds1bpsut', 300, 302, 303, 'hdoamed2ybzf4psut', 305, 304, 307, 308, 309, 306, 'hdoamedssbhq9psut', 311, 313, '175', 315, 318, 'hdoamedg1ivcvpsut', 319, 321, 322, 325, 326, 327, '166', 330, 'hdoamedpbgtzrpsut', 'hdoamed7reqgjpsut', 335, 340, 341, 342, '71', '?', 353, 354, '163', 'hdoamedp1a20wpsut', '144', 'hdoamedamcfxfpsut', '152', 'hdoamedj2g1ivpsut', 'hdoamedroguohpsut', 0.3, '123', 'hdoamed5al44fpsut', 394, 'hdoamedd2x2n6psut', 'hdoameds3682jpsut', '147', '171', 407, 409, 5.6, 'hdoamedakz06dpsut', 'hdoamedcfxfnipsut', 417, '108', 'hdoamed2zzy1rpsut', 'hdoamedbpjcmtpsut', 'hdoamedst0g3npsut', 'hdoamed4f8a4lpsut', 'hdoamedbhq9n8psut', '130', 'hdoamed71ai65psut', 'hdoamedeqgj1jpsut', '180', '1,42', 'hdoamed8zhx6fpsut', 'hdoamedajjuwypsut', 'hdoamed94tgiwpsut', '139', 'hdoamed19lva2psut', 'hdoamed9ez87ipsut', 'hdoamedivcv2ypsut', 'hdoamedcdk0whpsut', '169', 'hdoamed8pl57tpsut', '122', 0.8, 1.3, 1.8, 'hdoamedoxofydpsut', 'hdoamedgj1jrnpsut', '111', 'hdoamediffeh7psut', 'hdoamed65xxglpsut', 'hdoamedr51tflpsut', 'hdoamedx5hr6xpsut', 564, 'hdoamedk0whi5psut', 'hdoamedrv42qzpsut', 'hdoamedy0ucwhpsut', 'hdoamedfeh727psut', '195', 'hdoamed426v05psut', 'hdoamed6ows42psut', 'hdoamedy2z7akpsut', 'hdoamedu5y0ucpsut', '136', 'hdoamedswt1ddpsut', 'hdoamed0xds94psut', 'hdoamede8xlm1psut', 'hdoameddlw7cdpsut', 'hdoamedw7cdk0psut', '109', 'hdoamedc6fnbapsut', '177', 'hdoamed86mbimpsut', 'hdoameduepbgtpsut', 'hdoamed06eybxpsut', 'hdoamed7bg9v1psut', 'hdoamedqhgbompsut', '188', 'hdoamedjkq7uepsut', 'hdoamed6x4kg1psut', 'hdoamedk80e71psut', '134', 'hdoamedrdu6e6psut', 'hdoamedt0eof5psut', 'hdoamedscd04ipsut', '161', 0.6, 'hdoamedq0f6dtpsut', '162', 'hdoameducwhg3psut', 'hdoamedylp381psut', 'hdoamedtidi3cpsut', 'hdoamedkox4jspsut', 'hdoamedmjbpjcpsut', 'hdoamedl6nzh0psut', '115', 'hdoamedw1cvu5psut', 'hdoamedpufonypsut', '103', 'hdoamedw95ykqpsut', 'hdoamedzy1rw1psut', 0.1, '157', '174', 'hdoamedbxeq8qpsut', 'hdoamedl57t7bpsut', 2.2, 3.2, '117', '96', 4.2, '133', '151', 'hdoameda28pl5psut', 'hdoamed6vbz7bpsut', 'hdoamed78fvscpsut', '138', 'hdoamedhx6f3fpsut', 'hdoamedrn0xdspsut', 'hdoamed0cegaspsut', 'hdoamed5iw95ypsut', 'hdoamed11ssbhpsut', 'hdoamed7ljcmtpsut', 'hdoamedcwjvlopsut', 'hdoamedb7kixcpsut', 'hdoamed36c5rxpsut', 'hdoamedvuyninpsut', 'hdoamednjkjmcpsut', 'hdoamed8qyu6vpsut', 'hdoamedrymmd3psut', 'hdoamed5fuv29psut', 'hdoamedmloe9epsut', 'hdoamedcnqrm3psut', 'hdoamedtakf4spsut', '99', '6', 'hdoamedom2hy2psut', '178', 'hdoamed3w6d11psut', 'hdoamedxpb887psut', 'hdoamedky3wifpsut', 'hdoamed7cxf5gpsut', 'hdoamedd04ingpsut', 'hdoamedx2n6w7psut', 'hdoamed6v05hzpsut', 'hdoamedwytakfpsut', 'hdoamediwgjt0psut', 'hdoamedkpajjupsut', 'hdoamed12kqzjpsut', '168', 'hdoamed0gkpajpsut', '173', 1.4, 2.6, 3.6, 3.1, 1.6, 2.4, 3.4, 2.9, 2.1, 1.9, 207, 'hdoamedxepk9wpsut', 'hdoamedflmloepsut', 'hdoamedqq9fo7psut', '156', 'hdoamedhr6x4kpsut', 'hdoamedjsjat8psut', 210, 'hdoamedds1byapsut', 'hdoamedm3e8xlpsut', 'hdoamed40dbqfpsut', 214, 'hdoamedhe7le8psut', 'hdoamed03ldb7psut', 215, 'hdoamed35zg0mpsut', '185', 'hdoamedv1214kpsut', 'hdoamedzg0mk8psut', 218, 'hdoamedle0675psut', 'hdoamed13xepkpsut', '149', 'hdoamedxw0gkppsut', 'hdoamedv35fuvpsut', 'hdoamedgluerdpsut', 'hdoamedg9v121psut', 'hdoamede8hodcpsut', 'hdoamedascxmjpsut', 'hdoamed6n7shepsut', 223, 'hdoamed7she7lpsut', 'hdoamedhio51mpsut', 'hdoamed9puzktpsut', 'hdoamed0dr51tpsut', '170', 228, '172', 'hdoamedxfnivtpsut', 'hdoameddaa9d2psut', 'hdoamedng2zzypsut', '129', 'hdoamed5zx5hrpsut', 'hdoamedqrm3e8psut', 'hdoamed3f58qhpsut', 'hdoamed1rw1cvpsut', 'hdoamed214kpupsut', 'hdoamed3ccnqrpsut', 241, 'hdoamedsb0cegpsut', 2.8, 'hdoamedeq8qyupsut', 3.8, '120', 'hdoamedw7ac6npsut', '154', 'hdoamedmbimjspsut', 'hdoamednovbyjpsut', 'hdoameda20w86psut', 0.4, 'hdoamedz06daupsut', 0.9, 'hdoamed63426vpsut', 'hdoamedimjs34psut', 'hdoamed1tflmlpsut', 'hdoamedwhi59mpsut', 'hdoamedtgky3wpsut', 259, '182', 261, 'hdoamed6f3f58psut', 'hdoamed8gs278psut', 262, 'hdoamed7le8hopsut', '184', 'hdoamed89novbpsut', 'hdoamedtyv35fpsut', 'hdoamed34jkq7psut', '0', 'hdoamedlva28ppsut', 'hdoamedi59mslpsut', 'hdoamedn8p1a2psut', 'hdoamedjs34jkpsut', 'hdoameddbqfnrpsut', 'hdoamedbfdlw7psut', '140', 'hdoamedf4bfdlpsut', '113', 278, 'hdoamedkf4st8psut', '164', 'hdoamedya03ldpsut', 'hdoamedeof5o4psut', 'hdoamedixe96epsut', 'hdoameds278fvpsut', 'hdoamed9o5zx5psut', '7', 'hdoamedow89nopsut', 1.1, '1', 'hdoamedhzza35psut', 'hdoamedza35zgpsut', 'hdoamedvbyjtgpsut', '142', 'hdoamed4st8rvpsut', 'hdoamed27sb0cpsut', 'hdoamedhy94tgpsut', 'hdoamedfvscd0psut', '186', 'hdoamed3mamcfpsut', 'hdoamed4ing2zpsut', 'hdoamedcxmjbppsut', 'hdoamedgjt0eopsut', 'hdoamedz7akz0psut', 'hdoamed8hhsuwpsut', 'hdoamedkqqptipsut', '202', 'hdoamedny13xepsut', 'hdoameddi3ccnpsut', 'hdoamed9msl63psut', 'hdoamedu4ll4apsut', 'hdoamed2p36c5psut', 'hdoamed1bya03psut', 'hdoamedvt9o5zpsut', '158', 'hdoamedqzhh06psut', 'hdoamedqabycgpsut', 'hdoamedz87ilnpsut', 'hdoamed6d11sspsut', '131', 0.7, 1.2, '187', '146', 'hdoamed4aj2g1psut', 3600, '88', 'hdoamed2hy2z7psut', 'hdoamedc5rxxwpsut', 'hdoamedadvmlgpsut', 'hdoamedm1kox4psut', 'hdoamed0e71aipsut', 'hdoamed0w86mbpsut', 'hdoamed4cfp45psut', '155', 'hdoameddc3udspsut', 'hdoamed7b8gs2psut', '118', 'hdoamed1jrn0xpsut', 'hdoamedbiezanpsut', 'hdoamed42qzhhpsut', '127', 'hdoamedhodc3upsut', 'hdoamednivt9opsut', 'hdoamedq9n8p1psut', 'hdoamedt8rv42psut', 0.2, 4.4, '132', '112', 'hdoamed9419lvpsut', '137', 'hdoamedt87reqpsut', '160', 'hdoamedbz7b8gpsut', 'hdoamedwz96u4psut', '190', 'hdoamedtgiwgjpsut', 'hdoamedo43mampsut', '90', '179', '145', 'hdoamedyu6vbzpsut', 'hdoamedcv2ybzpsut', '116', 'hdoamed0mk80epsut', 'hdoamed4kpufopsut', 'hdoamedv93w6dpsut', '3', 'hdoamedrxxw0gpsut', '194', 'hdoamed14ebz9psut', 'hdoamed9wycwzpsut', 'hdoamed05hzzapsut', 'hdoamed7ilnhypsut', 'hdoamedg3v93wpsut', 'hdoamedhh06eypsut', 'hdoamedx4jsjapsut', 'hdoamednrow89psut', 'hdoamedr8id2qpsut', '143', 'hdoamed73g4k9psut', 'hdoamedgkiq1cpsut', 'hdoamedds9419psut', 'hdoamed1ea3pvpsut', 'hdoamed6dau5ipsut', 'hdoamedxlm1kopsut', '106', 'hdoamedmthh8zpsut', '124', 'hdoamedhh8zhxpsut', 'hdoamedqptidipsut', 'hdoamedb887b0psut', 'hdoamedb05al4psut', '159', 'hdoamedg12p36psut', 'hdoameduerdu6psut', '105', 'hdoamed5p0dr5psut', 'hdoamedu6e640psut', '148', '167', 'hdoamed7t7bg9psut', 'hdoamedf5o43mpsut', 'hdoamedqfnrowpsut', '128', 'hdoamedm2ak8kpsut', 'hdoamedwhg3v9psut', 'hdoamed5ykqqppsut', '153', 'hdoamedegascxpsut', 'hdoamedyjtgkypsut', 'hdoamedjlfwh2psut', 'hdoamedldb7kipsut', '181'}\n"
          ]
        }
      ]
    },
    {
      "cell_type": "code",
      "metadata": {
        "colab": {
          "base_uri": "https://localhost:8080/"
        },
        "id": "eNXtL4h44Lj4",
        "outputId": "a29d2774-c9ba-4f2d-bc60-8a8db9030c6c"
      },
      "source": [
        "mlist = df['ID'].unique()\n",
        "len(mlist)\n",
        "#7 duplicates"
      ],
      "execution_count": null,
      "outputs": [
        {
          "output_type": "execute_result",
          "data": {
            "text/plain": [
              "303"
            ]
          },
          "metadata": {},
          "execution_count": 61
        }
      ]
    },
    {
      "cell_type": "code",
      "metadata": {
        "colab": {
          "base_uri": "https://localhost:8080/"
        },
        "id": "fX2POiIn6r2Y",
        "outputId": "f2d471c2-4140-4cd3-883a-be3bc1b2dfe4"
      },
      "source": [
        "tlist = df.duplicated()\n",
        "sum(tlist == True)"
      ],
      "execution_count": null,
      "outputs": [
        {
          "output_type": "execute_result",
          "data": {
            "text/plain": [
              "7"
            ]
          },
          "metadata": {},
          "execution_count": 62
        }
      ]
    },
    {
      "cell_type": "code",
      "metadata": {
        "colab": {
          "base_uri": "https://localhost:8080/"
        },
        "id": "YL3S2KOn8p1c",
        "outputId": "c3e41a75-f02d-46f8-ca1b-9c7f6fdacc73"
      },
      "source": [
        "df.loc[~df['thalack'].str.isdigit(), 'thalack'].tolist()"
      ],
      "execution_count": null,
      "outputs": [
        {
          "output_type": "execute_result",
          "data": {
            "text/plain": [
              "['1,71', '1,42']"
            ]
          },
          "metadata": {},
          "execution_count": 65
        }
      ]
    },
    {
      "cell_type": "code",
      "metadata": {
        "colab": {
          "base_uri": "https://localhost:8080/"
        },
        "id": "Sv5mhOGZ9RD4",
        "outputId": "7d5974c6-11ce-46ab-800e-fac73822bd2c"
      },
      "source": [
        "df.loc[~df['ca'].str.isdigit(), 'ca'].tolist()"
      ],
      "execution_count": null,
      "outputs": [
        {
          "output_type": "execute_result",
          "data": {
            "text/plain": [
              "['?', '?', '?', '?']"
            ]
          },
          "metadata": {},
          "execution_count": 67
        }
      ]
    },
    {
      "cell_type": "code",
      "metadata": {
        "colab": {
          "base_uri": "https://localhost:8080/"
        },
        "id": "I_VeYFmg9pOY",
        "outputId": "7d3d154a-99af-4618-8229-615988207e8c"
      },
      "source": [
        "df.loc[~df['thal'].str.isdigit(), 'thal'].tolist()"
      ],
      "execution_count": null,
      "outputs": [
        {
          "output_type": "execute_result",
          "data": {
            "text/plain": [
              "['?', '?']"
            ]
          },
          "metadata": {},
          "execution_count": 68
        }
      ]
    },
    {
      "cell_type": "code",
      "metadata": {
        "colab": {
          "base_uri": "https://localhost:8080/"
        },
        "id": "GaA4DDDW9rtE",
        "outputId": "f8f025db-3fd4-46c2-bc95-115ccce91cb5"
      },
      "source": [
        "print(sum(df['restecg'] == 0))\n",
        "print(sum(df['restecg'] == 1))\n",
        "print(sum(df['restecg'] == 2))"
      ],
      "execution_count": null,
      "outputs": [
        {
          "output_type": "stream",
          "name": "stdout",
          "text": [
            "156\n",
            "4\n",
            "150\n"
          ]
        }
      ]
    },
    {
      "cell_type": "code",
      "metadata": {
        "colab": {
          "base_uri": "https://localhost:8080/"
        },
        "id": "fsbq62mt-arz",
        "outputId": "916eabcc-0c1c-40f8-a145-51d612ebee7a"
      },
      "source": [
        "df['fbs'].unique()"
      ],
      "execution_count": null,
      "outputs": [
        {
          "output_type": "execute_result",
          "data": {
            "text/plain": [
              "array([1, 0])"
            ]
          },
          "metadata": {},
          "execution_count": 76
        }
      ]
    },
    {
      "cell_type": "code",
      "metadata": {
        "colab": {
          "base_uri": "https://localhost:8080/"
        },
        "id": "oVCKoHrY-lG3",
        "outputId": "88960025-0e5d-443e-aeaf-fe029a86b741"
      },
      "source": [
        "df['ca'].unique()"
      ],
      "execution_count": null,
      "outputs": [
        {
          "output_type": "execute_result",
          "data": {
            "text/plain": [
              "array(['0', '3', '2', '1', '?'], dtype=object)"
            ]
          },
          "metadata": {},
          "execution_count": 80
        }
      ]
    },
    {
      "cell_type": "code",
      "metadata": {
        "colab": {
          "base_uri": "https://localhost:8080/"
        },
        "id": "6Y96WIXU_az8",
        "outputId": "4b802996-e8d6-4c0e-f832-f7ff67b79d9d"
      },
      "source": [
        "df['thal'].unique()"
      ],
      "execution_count": null,
      "outputs": [
        {
          "output_type": "execute_result",
          "data": {
            "text/plain": [
              "array(['6', '3', '7', '?'], dtype=object)"
            ]
          },
          "metadata": {},
          "execution_count": 81
        }
      ]
    },
    {
      "cell_type": "code",
      "metadata": {
        "colab": {
          "base_uri": "https://localhost:8080/"
        },
        "id": "v4RdqHCv_oJ_",
        "outputId": "628a271f-2fbc-4b67-ab21-cc4fee9f4152"
      },
      "source": [
        "df['outcome'].unique()\n",
        "#shouldnt this be binary?"
      ],
      "execution_count": null,
      "outputs": [
        {
          "output_type": "execute_result",
          "data": {
            "text/plain": [
              "array([0, 2, 1, 3, 4])"
            ]
          },
          "metadata": {},
          "execution_count": 84
        }
      ]
    },
    {
      "cell_type": "code",
      "metadata": {
        "colab": {
          "base_uri": "https://localhost:8080/"
        },
        "id": "6FzFg2J2-IRh",
        "outputId": "042b7d1f-2c7d-4ae7-bc80-5e7814a3dcf1"
      },
      "source": [
        "df['cp'].unique()\n",
        "print(sum(df['cp'] == 1))\n",
        "print(sum(df['cp'] == 2))\n",
        "print(sum(df['cp'] == 3))\n",
        "print(sum(df['cp'] == 4))"
      ],
      "execution_count": null,
      "outputs": [
        {
          "output_type": "stream",
          "name": "stdout",
          "text": [
            "23\n",
            "51\n",
            "89\n",
            "147\n"
          ]
        }
      ]
    },
    {
      "cell_type": "code",
      "metadata": {
        "colab": {
          "base_uri": "https://localhost:8080/"
        },
        "id": "D0GDQaQ8Cwox",
        "outputId": "d6e30025-d6f6-42be-cc66-b2e6b3e0fafb"
      },
      "source": [
        "df['restbps'].unique()\n"
      ],
      "execution_count": null,
      "outputs": [
        {
          "output_type": "execute_result",
          "data": {
            "text/plain": [
              "array([145, 160, 120, 130, 140, 172, 150, 110, 132, 117, 135, 112, 105,\n",
              "       124, 125, 142, 128, 170, 155, 104, 180, 138, 108, 134, 122, 115,\n",
              "       118, 100, 200,  94, 165, 102, 152, 101, 126, 174, 148, 178, 158,\n",
              "       192, 129, 144, 123, 136, 146, 106, 156, 154, 114, 164])"
            ]
          },
          "metadata": {},
          "execution_count": 110
        }
      ]
    },
    {
      "cell_type": "code",
      "metadata": {
        "colab": {
          "base_uri": "https://localhost:8080/"
        },
        "id": "PtVXLIYRDlZm",
        "outputId": "976ac7cf-0849-4c98-a889-e0b149b2a73a"
      },
      "source": [
        "print(df['chol'].min())\n",
        "print(df['chol'].median())\n",
        "print(df['chol'].max())\n",
        "#mistake here"
      ],
      "execution_count": null,
      "outputs": [
        {
          "output_type": "stream",
          "name": "stdout",
          "text": [
            "126\n",
            "241.5\n",
            "3600\n"
          ]
        }
      ]
    },
    {
      "cell_type": "code",
      "metadata": {
        "colab": {
          "base_uri": "https://localhost:8080/"
        },
        "id": "dijOQ7S-Dbr6",
        "outputId": "55f80174-7381-4cab-9665-a9dab2f50999"
      },
      "source": [
        "for col in df:\n",
        "  print(\"MAX:\")\n",
        "  print(df[col].max())\n",
        "  print(\"MIN:\")\n",
        "  print(df[col].min())\n",
        "  print(\"------\")"
      ],
      "execution_count": null,
      "outputs": [
        {
          "output_type": "stream",
          "name": "stdout",
          "text": [
            "MAX:\n",
            "hdoamedzy1rw1psut\n",
            "MIN:\n",
            "hdoamed03ldb7psut\n",
            "------\n",
            "MAX:\n",
            "77.0\n",
            "MIN:\n",
            "5.7\n",
            "------\n",
            "MAX:\n",
            "1\n",
            "MIN:\n",
            "0\n",
            "------\n",
            "MAX:\n",
            "4\n",
            "MIN:\n",
            "1\n",
            "------\n",
            "MAX:\n",
            "200\n",
            "MIN:\n",
            "94\n",
            "------\n",
            "MAX:\n",
            "3600\n",
            "MIN:\n",
            "126\n",
            "------\n",
            "MAX:\n",
            "1\n",
            "MIN:\n",
            "0\n",
            "------\n",
            "MAX:\n",
            "2\n",
            "MIN:\n",
            "0\n",
            "------\n",
            "MAX:\n",
            "99\n",
            "MIN:\n",
            "1,42\n",
            "------\n",
            "MAX:\n",
            "1\n",
            "MIN:\n",
            "0\n",
            "------\n",
            "MAX:\n",
            "34.0\n",
            "MIN:\n",
            "0.0\n",
            "------\n",
            "MAX:\n",
            "3\n",
            "MIN:\n",
            "1\n",
            "------\n",
            "MAX:\n",
            "?\n",
            "MIN:\n",
            "0\n",
            "------\n",
            "MAX:\n",
            "?\n",
            "MIN:\n",
            "3\n",
            "------\n",
            "MAX:\n",
            "4\n",
            "MIN:\n",
            "0\n",
            "------\n"
          ]
        }
      ]
    },
    {
      "cell_type": "code",
      "metadata": {
        "colab": {
          "base_uri": "https://localhost:8080/",
          "height": 443
        },
        "id": "WjJQTcBcF77s",
        "outputId": "0860c616-72e9-4380-dff8-d83884e9c08b"
      },
      "source": [
        "df"
      ],
      "execution_count": null,
      "outputs": [
        {
          "output_type": "execute_result",
          "data": {
            "text/html": [
              "<div>\n",
              "<style scoped>\n",
              "    .dataframe tbody tr th:only-of-type {\n",
              "        vertical-align: middle;\n",
              "    }\n",
              "\n",
              "    .dataframe tbody tr th {\n",
              "        vertical-align: top;\n",
              "    }\n",
              "\n",
              "    .dataframe thead th {\n",
              "        text-align: right;\n",
              "    }\n",
              "</style>\n",
              "<table border=\"1\" class=\"dataframe\">\n",
              "  <thead>\n",
              "    <tr style=\"text-align: right;\">\n",
              "      <th></th>\n",
              "      <th>ID</th>\n",
              "      <th>age</th>\n",
              "      <th>sex</th>\n",
              "      <th>cp</th>\n",
              "      <th>restbps</th>\n",
              "      <th>chol</th>\n",
              "      <th>fbs</th>\n",
              "      <th>restecg</th>\n",
              "      <th>thalack</th>\n",
              "      <th>exang</th>\n",
              "      <th>oldpeak</th>\n",
              "      <th>slope</th>\n",
              "      <th>ca</th>\n",
              "      <th>thal</th>\n",
              "      <th>outcome</th>\n",
              "    </tr>\n",
              "  </thead>\n",
              "  <tbody>\n",
              "    <tr>\n",
              "      <th>0</th>\n",
              "      <td>hdoamedhe7le8psut</td>\n",
              "      <td>63.0</td>\n",
              "      <td>1</td>\n",
              "      <td>1</td>\n",
              "      <td>145</td>\n",
              "      <td>233</td>\n",
              "      <td>1</td>\n",
              "      <td>2</td>\n",
              "      <td>150</td>\n",
              "      <td>0</td>\n",
              "      <td>2.3</td>\n",
              "      <td>3</td>\n",
              "      <td>0</td>\n",
              "      <td>6</td>\n",
              "      <td>0</td>\n",
              "    </tr>\n",
              "    <tr>\n",
              "      <th>1</th>\n",
              "      <td>hdoamedhodc3upsut</td>\n",
              "      <td>67.0</td>\n",
              "      <td>1</td>\n",
              "      <td>4</td>\n",
              "      <td>160</td>\n",
              "      <td>286</td>\n",
              "      <td>0</td>\n",
              "      <td>2</td>\n",
              "      <td>108</td>\n",
              "      <td>1</td>\n",
              "      <td>1.5</td>\n",
              "      <td>2</td>\n",
              "      <td>3</td>\n",
              "      <td>3</td>\n",
              "      <td>2</td>\n",
              "    </tr>\n",
              "    <tr>\n",
              "      <th>2</th>\n",
              "      <td>hdoamedds1byapsut</td>\n",
              "      <td>67.0</td>\n",
              "      <td>1</td>\n",
              "      <td>4</td>\n",
              "      <td>120</td>\n",
              "      <td>229</td>\n",
              "      <td>0</td>\n",
              "      <td>2</td>\n",
              "      <td>129</td>\n",
              "      <td>1</td>\n",
              "      <td>2.6</td>\n",
              "      <td>2</td>\n",
              "      <td>2</td>\n",
              "      <td>7</td>\n",
              "      <td>1</td>\n",
              "    </tr>\n",
              "    <tr>\n",
              "      <th>3</th>\n",
              "      <td>hdoamed03ldb7psut</td>\n",
              "      <td>37.0</td>\n",
              "      <td>1</td>\n",
              "      <td>3</td>\n",
              "      <td>130</td>\n",
              "      <td>250</td>\n",
              "      <td>0</td>\n",
              "      <td>0</td>\n",
              "      <td>187</td>\n",
              "      <td>0</td>\n",
              "      <td>3.5</td>\n",
              "      <td>3</td>\n",
              "      <td>0</td>\n",
              "      <td>3</td>\n",
              "      <td>0</td>\n",
              "    </tr>\n",
              "    <tr>\n",
              "      <th>4</th>\n",
              "      <td>hdoamedkixctypsut</td>\n",
              "      <td>41.0</td>\n",
              "      <td>0</td>\n",
              "      <td>2</td>\n",
              "      <td>130</td>\n",
              "      <td>204</td>\n",
              "      <td>0</td>\n",
              "      <td>2</td>\n",
              "      <td>172</td>\n",
              "      <td>0</td>\n",
              "      <td>1.4</td>\n",
              "      <td>1</td>\n",
              "      <td>0</td>\n",
              "      <td>3</td>\n",
              "      <td>0</td>\n",
              "    </tr>\n",
              "    <tr>\n",
              "      <th>...</th>\n",
              "      <td>...</td>\n",
              "      <td>...</td>\n",
              "      <td>...</td>\n",
              "      <td>...</td>\n",
              "      <td>...</td>\n",
              "      <td>...</td>\n",
              "      <td>...</td>\n",
              "      <td>...</td>\n",
              "      <td>...</td>\n",
              "      <td>...</td>\n",
              "      <td>...</td>\n",
              "      <td>...</td>\n",
              "      <td>...</td>\n",
              "      <td>...</td>\n",
              "      <td>...</td>\n",
              "    </tr>\n",
              "    <tr>\n",
              "      <th>305</th>\n",
              "      <td>hdoamed4f8a4lpsut</td>\n",
              "      <td>57.0</td>\n",
              "      <td>1</td>\n",
              "      <td>2</td>\n",
              "      <td>124</td>\n",
              "      <td>261</td>\n",
              "      <td>0</td>\n",
              "      <td>0</td>\n",
              "      <td>141</td>\n",
              "      <td>0</td>\n",
              "      <td>0.3</td>\n",
              "      <td>1</td>\n",
              "      <td>0</td>\n",
              "      <td>7</td>\n",
              "      <td>1</td>\n",
              "    </tr>\n",
              "    <tr>\n",
              "      <th>306</th>\n",
              "      <td>hdoamed5qpd5jpsut</td>\n",
              "      <td>44.0</td>\n",
              "      <td>0</td>\n",
              "      <td>3</td>\n",
              "      <td>118</td>\n",
              "      <td>242</td>\n",
              "      <td>0</td>\n",
              "      <td>0</td>\n",
              "      <td>149</td>\n",
              "      <td>0</td>\n",
              "      <td>0.3</td>\n",
              "      <td>2</td>\n",
              "      <td>1</td>\n",
              "      <td>3</td>\n",
              "      <td>0</td>\n",
              "    </tr>\n",
              "    <tr>\n",
              "      <th>307</th>\n",
              "      <td>hdoamedimjs34psut</td>\n",
              "      <td>51.0</td>\n",
              "      <td>1</td>\n",
              "      <td>3</td>\n",
              "      <td>100</td>\n",
              "      <td>222</td>\n",
              "      <td>0</td>\n",
              "      <td>0</td>\n",
              "      <td>143</td>\n",
              "      <td>1</td>\n",
              "      <td>1.2</td>\n",
              "      <td>2</td>\n",
              "      <td>0</td>\n",
              "      <td>3</td>\n",
              "      <td>0</td>\n",
              "    </tr>\n",
              "    <tr>\n",
              "      <th>308</th>\n",
              "      <td>hdoamedjkq7uepsut</td>\n",
              "      <td>55.0</td>\n",
              "      <td>1</td>\n",
              "      <td>4</td>\n",
              "      <td>140</td>\n",
              "      <td>217</td>\n",
              "      <td>0</td>\n",
              "      <td>0</td>\n",
              "      <td>111</td>\n",
              "      <td>1</td>\n",
              "      <td>5.6</td>\n",
              "      <td>3</td>\n",
              "      <td>0</td>\n",
              "      <td>7</td>\n",
              "      <td>3</td>\n",
              "    </tr>\n",
              "    <tr>\n",
              "      <th>309</th>\n",
              "      <td>hdoamedkqqptipsut</td>\n",
              "      <td>43.0</td>\n",
              "      <td>1</td>\n",
              "      <td>3</td>\n",
              "      <td>130</td>\n",
              "      <td>315</td>\n",
              "      <td>0</td>\n",
              "      <td>0</td>\n",
              "      <td>162</td>\n",
              "      <td>0</td>\n",
              "      <td>1.9</td>\n",
              "      <td>1</td>\n",
              "      <td>1</td>\n",
              "      <td>3</td>\n",
              "      <td>0</td>\n",
              "    </tr>\n",
              "  </tbody>\n",
              "</table>\n",
              "<p>310 rows × 15 columns</p>\n",
              "</div>"
            ],
            "text/plain": [
              "                    ID   age  sex  cp  restbps  ...  oldpeak  slope  ca thal  outcome\n",
              "0    hdoamedhe7le8psut  63.0    1   1      145  ...      2.3      3   0    6        0\n",
              "1    hdoamedhodc3upsut  67.0    1   4      160  ...      1.5      2   3    3        2\n",
              "2    hdoamedds1byapsut  67.0    1   4      120  ...      2.6      2   2    7        1\n",
              "3    hdoamed03ldb7psut  37.0    1   3      130  ...      3.5      3   0    3        0\n",
              "4    hdoamedkixctypsut  41.0    0   2      130  ...      1.4      1   0    3        0\n",
              "..                 ...   ...  ...  ..      ...  ...      ...    ...  ..  ...      ...\n",
              "305  hdoamed4f8a4lpsut  57.0    1   2      124  ...      0.3      1   0    7        1\n",
              "306  hdoamed5qpd5jpsut  44.0    0   3      118  ...      0.3      2   1    3        0\n",
              "307  hdoamedimjs34psut  51.0    1   3      100  ...      1.2      2   0    3        0\n",
              "308  hdoamedjkq7uepsut  55.0    1   4      140  ...      5.6      3   0    7        3\n",
              "309  hdoamedkqqptipsut  43.0    1   3      130  ...      1.9      1   1    3        0\n",
              "\n",
              "[310 rows x 15 columns]"
            ]
          },
          "metadata": {},
          "execution_count": 120
        }
      ]
    },
    {
      "cell_type": "code",
      "metadata": {
        "id": "T56m_WXTFP0B"
      },
      "source": [
        "# df = df.replace(\"?\", 'NaN' , regex=True)\n",
        "# WE NEED TO CHANGE AGE TO INT\n",
        "# we need to remove the question marks and the commas in some number \n",
        "# drop duplicates\n",
        "# find if something is wrong with restecg"
      ],
      "execution_count": null,
      "outputs": []
    },
    {
      "cell_type": "code",
      "metadata": {
        "id": "0Ry27vCIGiCR"
      },
      "source": [
        ""
      ],
      "execution_count": null,
      "outputs": []
    }
  ]
}