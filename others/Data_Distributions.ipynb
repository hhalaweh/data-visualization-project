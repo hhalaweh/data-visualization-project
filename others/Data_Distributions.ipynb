{
  "nbformat": 4,
  "nbformat_minor": 0,
  "metadata": {
    "colab": {
      "name": "Data Distributions.ipynb",
      "provenance": [],
      "collapsed_sections": [
        "ePkV03BsVWIL",
        "OzdXj0t5VZAB",
        "rZnZEX4pVcVX",
        "EUyqzsPbVf-k",
        "69GLsOjuVi62",
        "KhEiEMgSVlLF",
        "51hZ9cIOzy_R",
        "hu6d3QC5z5Dn",
        "MHf8egBH1FRH",
        "Xxu8rPn_1OO6",
        "wJhO7VEn1pyO",
        "RiB8vWVQ13ig",
        "bKX8kI5A13_K",
        "0dpdDj7v14Ni",
        "t8ZolctdxtNK"
      ]
    },
    "kernelspec": {
      "name": "python3",
      "display_name": "Python 3"
    },
    "language_info": {
      "name": "python"
    }
  },
  "cells": [
    {
      "cell_type": "code",
      "metadata": {
        "id": "ig1hjMW_oVpH"
      },
      "source": [
        "import pandas as pd \n",
        "import seaborn as sns\n",
        "import matplotlib.pyplot as plt\n",
        "sns.set(rc = {'figure.figsize':(10,6)})\n",
        "import numpy as np"
      ],
      "execution_count": null,
      "outputs": []
    },
    {
      "cell_type": "code",
      "metadata": {
        "id": "j0qC6UhFo9VV"
      },
      "source": [
        "df = pd.read_csv('Heart Diseases.csv')\n",
        "df_chd = df[df['outcome'] != 0]"
      ],
      "execution_count": null,
      "outputs": []
    },
    {
      "cell_type": "code",
      "metadata": {
        "colab": {
          "base_uri": "https://localhost:8080/",
          "height": 204
        },
        "id": "cFsHJZfGpBof",
        "outputId": "0bac650f-8efd-448f-bb69-e0454aaeb134"
      },
      "source": [
        "df.head()"
      ],
      "execution_count": null,
      "outputs": [
        {
          "output_type": "execute_result",
          "data": {
            "text/html": [
              "<div>\n",
              "<style scoped>\n",
              "    .dataframe tbody tr th:only-of-type {\n",
              "        vertical-align: middle;\n",
              "    }\n",
              "\n",
              "    .dataframe tbody tr th {\n",
              "        vertical-align: top;\n",
              "    }\n",
              "\n",
              "    .dataframe thead th {\n",
              "        text-align: right;\n",
              "    }\n",
              "</style>\n",
              "<table border=\"1\" class=\"dataframe\">\n",
              "  <thead>\n",
              "    <tr style=\"text-align: right;\">\n",
              "      <th></th>\n",
              "      <th>ID</th>\n",
              "      <th>age</th>\n",
              "      <th>sex</th>\n",
              "      <th>cp</th>\n",
              "      <th>restbps</th>\n",
              "      <th>chol</th>\n",
              "      <th>fbs</th>\n",
              "      <th>restecg</th>\n",
              "      <th>thalack</th>\n",
              "      <th>exang</th>\n",
              "      <th>oldpeak</th>\n",
              "      <th>slope</th>\n",
              "      <th>ca</th>\n",
              "      <th>thal</th>\n",
              "      <th>outcome</th>\n",
              "    </tr>\n",
              "  </thead>\n",
              "  <tbody>\n",
              "    <tr>\n",
              "      <th>0</th>\n",
              "      <td>hdoamedhe7le8psut</td>\n",
              "      <td>63.0</td>\n",
              "      <td>1</td>\n",
              "      <td>1</td>\n",
              "      <td>145</td>\n",
              "      <td>233</td>\n",
              "      <td>1</td>\n",
              "      <td>2</td>\n",
              "      <td>150</td>\n",
              "      <td>0</td>\n",
              "      <td>2.3</td>\n",
              "      <td>3</td>\n",
              "      <td>0</td>\n",
              "      <td>6</td>\n",
              "      <td>0</td>\n",
              "    </tr>\n",
              "    <tr>\n",
              "      <th>1</th>\n",
              "      <td>hdoamedhodc3upsut</td>\n",
              "      <td>67.0</td>\n",
              "      <td>1</td>\n",
              "      <td>4</td>\n",
              "      <td>160</td>\n",
              "      <td>286</td>\n",
              "      <td>0</td>\n",
              "      <td>2</td>\n",
              "      <td>108</td>\n",
              "      <td>1</td>\n",
              "      <td>1.5</td>\n",
              "      <td>2</td>\n",
              "      <td>3</td>\n",
              "      <td>3</td>\n",
              "      <td>2</td>\n",
              "    </tr>\n",
              "    <tr>\n",
              "      <th>2</th>\n",
              "      <td>hdoamedds1byapsut</td>\n",
              "      <td>67.0</td>\n",
              "      <td>1</td>\n",
              "      <td>4</td>\n",
              "      <td>120</td>\n",
              "      <td>229</td>\n",
              "      <td>0</td>\n",
              "      <td>2</td>\n",
              "      <td>129</td>\n",
              "      <td>1</td>\n",
              "      <td>2.6</td>\n",
              "      <td>2</td>\n",
              "      <td>2</td>\n",
              "      <td>7</td>\n",
              "      <td>1</td>\n",
              "    </tr>\n",
              "    <tr>\n",
              "      <th>3</th>\n",
              "      <td>hdoamed03ldb7psut</td>\n",
              "      <td>37.0</td>\n",
              "      <td>1</td>\n",
              "      <td>3</td>\n",
              "      <td>130</td>\n",
              "      <td>250</td>\n",
              "      <td>0</td>\n",
              "      <td>0</td>\n",
              "      <td>187</td>\n",
              "      <td>0</td>\n",
              "      <td>3.5</td>\n",
              "      <td>3</td>\n",
              "      <td>0</td>\n",
              "      <td>3</td>\n",
              "      <td>0</td>\n",
              "    </tr>\n",
              "    <tr>\n",
              "      <th>4</th>\n",
              "      <td>hdoamedkixctypsut</td>\n",
              "      <td>41.0</td>\n",
              "      <td>0</td>\n",
              "      <td>2</td>\n",
              "      <td>130</td>\n",
              "      <td>204</td>\n",
              "      <td>0</td>\n",
              "      <td>2</td>\n",
              "      <td>172</td>\n",
              "      <td>0</td>\n",
              "      <td>1.4</td>\n",
              "      <td>1</td>\n",
              "      <td>0</td>\n",
              "      <td>3</td>\n",
              "      <td>0</td>\n",
              "    </tr>\n",
              "  </tbody>\n",
              "</table>\n",
              "</div>"
            ],
            "text/plain": [
              "                  ID   age  sex  cp  restbps  ...  oldpeak  slope  ca thal  outcome\n",
              "0  hdoamedhe7le8psut  63.0    1   1      145  ...      2.3      3   0    6        0\n",
              "1  hdoamedhodc3upsut  67.0    1   4      160  ...      1.5      2   3    3        2\n",
              "2  hdoamedds1byapsut  67.0    1   4      120  ...      2.6      2   2    7        1\n",
              "3  hdoamed03ldb7psut  37.0    1   3      130  ...      3.5      3   0    3        0\n",
              "4  hdoamedkixctypsut  41.0    0   2      130  ...      1.4      1   0    3        0\n",
              "\n",
              "[5 rows x 15 columns]"
            ]
          },
          "metadata": {},
          "execution_count": 3
        }
      ]
    },
    {
      "cell_type": "markdown",
      "metadata": {
        "id": "ePkV03BsVWIL"
      },
      "source": [
        "# age"
      ]
    },
    {
      "cell_type": "code",
      "metadata": {
        "colab": {
          "base_uri": "https://localhost:8080/",
          "height": 390
        },
        "id": "_frne3l6pCwj",
        "outputId": "6e155650-d114-406b-876f-2f2d67b97489"
      },
      "source": [
        "sns.distplot(df['age'])\n",
        "sns.distplot(df_chd['age'])\n",
        "plt.xlim(0,80)"
      ],
      "execution_count": null,
      "outputs": [
        {
          "output_type": "stream",
          "name": "stderr",
          "text": [
            "/usr/local/lib/python3.7/dist-packages/seaborn/distributions.py:2619: FutureWarning: `distplot` is a deprecated function and will be removed in a future version. Please adapt your code to use either `displot` (a figure-level function with similar flexibility) or `histplot` (an axes-level function for histograms).\n",
            "  warnings.warn(msg, FutureWarning)\n",
            "/usr/local/lib/python3.7/dist-packages/seaborn/distributions.py:2619: FutureWarning: `distplot` is a deprecated function and will be removed in a future version. Please adapt your code to use either `displot` (a figure-level function with similar flexibility) or `histplot` (an axes-level function for histograms).\n",
            "  warnings.warn(msg, FutureWarning)\n"
          ]
        },
        {
          "output_type": "execute_result",
          "data": {
            "text/plain": [
              "(0.0, 80.0)"
            ]
          },
          "metadata": {},
          "execution_count": 4
        },
        {
          "output_type": "display_data",
          "data": {
            "image/png": "[encoded data removed]",
            "text/plain": [
              "<Figure size 432x288 with 1 Axes>"
            ]
          },
          "metadata": {
            "needs_background": "light"
          }
        }
      ]
    },
    {
      "cell_type": "markdown",
      "metadata": {
        "id": "35MyR21EbdaZ"
      },
      "source": [
        "The age distribution is unimodal, with most patients being between 50 and 60. There is no need to normalize/standardize the data since there aren't other variables similar to age in the dataset. (We will use normalization and standardization in further modeling of the data).\n",
        "\n",
        "However, the distribution slightly shifts to the right when filtering only for patients with CHD, since CHD is normally occurs at later ages for both men and women.\n",
        "\n"
      ]
    },
    {
      "cell_type": "code",
      "metadata": {
        "colab": {
          "base_uri": "https://localhost:8080/",
          "height": 390
        },
        "id": "j6EXf8vFetH1",
        "outputId": "10065d4e-d846-4b5d-aa31-cf0879225032"
      },
      "source": [
        "sns.distplot(df_chd[df_chd['sex'] == 0]['age'])\n",
        "sns.distplot(df_chd[df_chd['sex'] == 1]['age'])"
      ],
      "execution_count": null,
      "outputs": [
        {
          "output_type": "stream",
          "name": "stderr",
          "text": [
            "/usr/local/lib/python3.7/dist-packages/seaborn/distributions.py:2619: FutureWarning: `distplot` is a deprecated function and will be removed in a future version. Please adapt your code to use either `displot` (a figure-level function with similar flexibility) or `histplot` (an axes-level function for histograms).\n",
            "  warnings.warn(msg, FutureWarning)\n",
            "/usr/local/lib/python3.7/dist-packages/seaborn/distributions.py:2619: FutureWarning: `distplot` is a deprecated function and will be removed in a future version. Please adapt your code to use either `displot` (a figure-level function with similar flexibility) or `histplot` (an axes-level function for histograms).\n",
            "  warnings.warn(msg, FutureWarning)\n"
          ]
        },
        {
          "output_type": "execute_result",
          "data": {
            "text/plain": [
              "<matplotlib.axes._subplots.AxesSubplot at 0x7f7eba6c0390>"
            ]
          },
          "metadata": {},
          "execution_count": 5
        },
        {
          "output_type": "display_data",
          "data": {
            "image/png": "[encoded data removed]",
            "text/plain": [
              "<Figure size 432x288 with 1 Axes>"
            ]
          },
          "metadata": {
            "needs_background": "light"
          }
        }
      ]
    },
    {
      "cell_type": "markdown",
      "metadata": {
        "id": "ey4iGuP0fqYb"
      },
      "source": [
        "\"In men, this increase usually levels off around the age of 45 to 50 years, whereas in women, the increase continues sharply until the age of 60 to 65 years.\" [1] We can see through the distribution of age of patients with CHD that men face it earlier than woman."
      ]
    },
    {
      "cell_type": "code",
      "metadata": {
        "colab": {
          "base_uri": "https://localhost:8080/",
          "height": 80
        },
        "id": "jV5LXhEoXzq1",
        "outputId": "8246fd30-6642-4bc0-8d73-69e4f0b44876"
      },
      "source": [
        "df[df['age'] == 5.7]"
      ],
      "execution_count": null,
      "outputs": [
        {
          "output_type": "execute_result",
          "data": {
            "text/html": [
              "<div>\n",
              "<style scoped>\n",
              "    .dataframe tbody tr th:only-of-type {\n",
              "        vertical-align: middle;\n",
              "    }\n",
              "\n",
              "    .dataframe tbody tr th {\n",
              "        vertical-align: top;\n",
              "    }\n",
              "\n",
              "    .dataframe thead th {\n",
              "        text-align: right;\n",
              "    }\n",
              "</style>\n",
              "<table border=\"1\" class=\"dataframe\">\n",
              "  <thead>\n",
              "    <tr style=\"text-align: right;\">\n",
              "      <th></th>\n",
              "      <th>ID</th>\n",
              "      <th>age</th>\n",
              "      <th>sex</th>\n",
              "      <th>cp</th>\n",
              "      <th>restbps</th>\n",
              "      <th>chol</th>\n",
              "      <th>fbs</th>\n",
              "      <th>restecg</th>\n",
              "      <th>thalack</th>\n",
              "      <th>exang</th>\n",
              "      <th>oldpeak</th>\n",
              "      <th>slope</th>\n",
              "      <th>ca</th>\n",
              "      <th>thal</th>\n",
              "      <th>outcome</th>\n",
              "    </tr>\n",
              "  </thead>\n",
              "  <tbody>\n",
              "    <tr>\n",
              "      <th>250</th>\n",
              "      <td>hdoamedow89nopsut</td>\n",
              "      <td>5.7</td>\n",
              "      <td>1</td>\n",
              "      <td>4</td>\n",
              "      <td>110</td>\n",
              "      <td>201</td>\n",
              "      <td>0</td>\n",
              "      <td>0</td>\n",
              "      <td>126</td>\n",
              "      <td>1</td>\n",
              "      <td>1.5</td>\n",
              "      <td>2</td>\n",
              "      <td>0</td>\n",
              "      <td>6</td>\n",
              "      <td>0</td>\n",
              "    </tr>\n",
              "  </tbody>\n",
              "</table>\n",
              "</div>"
            ],
            "text/plain": [
              "                    ID  age  sex  cp  restbps  ...  oldpeak  slope  ca thal  outcome\n",
              "250  hdoamedow89nopsut  5.7    1   4      110  ...      1.5      2   0    6        0\n",
              "\n",
              "[1 rows x 15 columns]"
            ]
          },
          "metadata": {},
          "execution_count": 6
        }
      ]
    },
    {
      "cell_type": "markdown",
      "metadata": {
        "id": "f1Cgoe5zYnkf"
      },
      "source": [
        "We can see that we have one outlier which is a 5.7 year old male, the patient doesnt have CHD, however the patient faces thalassemia as well as asymptomatic angina. Facing thalassemia and asymptomatic angina at such an early age is unusual, therefore we can consider this data point as an outlier."
      ]
    },
    {
      "cell_type": "markdown",
      "metadata": {
        "id": "8Ik7Om9jgf-C"
      },
      "source": [
        "We can conclude that the distribution of age in data is distributed correctly. We only need to remove the outlier, since it contains unusual data."
      ]
    },
    {
      "cell_type": "code",
      "metadata": {
        "id": "kos1CVGtVSr8"
      },
      "source": [
        "df_new = df[df['age'] != 5.7]"
      ],
      "execution_count": null,
      "outputs": []
    },
    {
      "cell_type": "markdown",
      "metadata": {
        "id": "OzdXj0t5VZAB"
      },
      "source": [
        "# sex"
      ]
    },
    {
      "cell_type": "code",
      "metadata": {
        "colab": {
          "base_uri": "https://localhost:8080/",
          "height": 356
        },
        "id": "wK9BM0StYqeQ",
        "outputId": "f4f38bce-e6ea-4b4f-f481-ecd5d7737dfb"
      },
      "source": [
        "sns.countplot(df_chd.sex)"
      ],
      "execution_count": null,
      "outputs": [
        {
          "output_type": "stream",
          "name": "stderr",
          "text": [
            "/usr/local/lib/python3.7/dist-packages/seaborn/_decorators.py:43: FutureWarning: Pass the following variable as a keyword arg: x. From version 0.12, the only valid positional argument will be `data`, and passing other arguments without an explicit keyword will result in an error or misinterpretation.\n",
            "  FutureWarning\n"
          ]
        },
        {
          "output_type": "execute_result",
          "data": {
            "text/plain": [
              "<matplotlib.axes._subplots.AxesSubplot at 0x7f7eba1b8f10>"
            ]
          },
          "metadata": {},
          "execution_count": 8
        },
        {
          "output_type": "display_data",
          "data": {
            "image/png": "[encoded data removed]",
            "text/plain": [
              "<Figure size 432x288 with 1 Axes>"
            ]
          },
          "metadata": {
            "needs_background": "light"
          }
        }
      ]
    },
    {
      "cell_type": "markdown",
      "metadata": {
        "id": "tbowrfd0iHNC"
      },
      "source": [
        "There is a clear imbalance in the age. Where the number of male patients with CHD is much higher than females.\n",
        "\n",
        "\"Men generally develop CVD at a younger age and have a higher propensity of developing coronary heart disease (CHD) than women.\" [2]\n",
        "\n",
        "Men generally develop coronary heart diseases at a younger age, and have a higher risk of developing CHD which explains the imbalance in the dataset for patients with CHD."
      ]
    },
    {
      "cell_type": "code",
      "metadata": {
        "colab": {
          "base_uri": "https://localhost:8080/",
          "height": 356
        },
        "id": "ilfCteJYjWDR",
        "outputId": "eb178564-f12d-4917-d1af-c0be55817442"
      },
      "source": [
        "sns.countplot(df.sex)"
      ],
      "execution_count": null,
      "outputs": [
        {
          "output_type": "stream",
          "name": "stderr",
          "text": [
            "/usr/local/lib/python3.7/dist-packages/seaborn/_decorators.py:43: FutureWarning: Pass the following variable as a keyword arg: x. From version 0.12, the only valid positional argument will be `data`, and passing other arguments without an explicit keyword will result in an error or misinterpretation.\n",
            "  FutureWarning\n"
          ]
        },
        {
          "output_type": "execute_result",
          "data": {
            "text/plain": [
              "<matplotlib.axes._subplots.AxesSubplot at 0x7f7eba18a490>"
            ]
          },
          "metadata": {},
          "execution_count": 9
        },
        {
          "output_type": "display_data",
          "data": {
            "image/png": "[encoded data removed]",
            "text/plain": [
              "<Figure size 432x288 with 1 Axes>"
            ]
          },
          "metadata": {
            "needs_background": "light"
          }
        }
      ]
    },
    {
      "cell_type": "markdown",
      "metadata": {
        "id": "H4cFk3nIj2V6"
      },
      "source": [
        "However, in general for all people collected in the dataset with all outcomes, there is still an imbalance in the data in terms of data collection. We can solve this issue through over sampling *(we cannot use **under sampling** since we do not have an extensive number of records)* by adding more data points for the females.\n",
        "\n"
      ]
    },
    {
      "cell_type": "code",
      "metadata": {
        "colab": {
          "base_uri": "https://localhost:8080/"
        },
        "id": "wvSquJM0mrWP",
        "outputId": "f5b01b47-ff56-45ed-9993-e88e09c96bca"
      },
      "source": [
        "male = df[df['sex'] == 1]\n",
        "female = df[df['sex'] == 0]\n",
        "print(male.shape, female.shape)"
      ],
      "execution_count": null,
      "outputs": [
        {
          "output_type": "stream",
          "name": "stdout",
          "text": [
            "(211, 15) (99, 15)\n"
          ]
        }
      ]
    },
    {
      "cell_type": "code",
      "metadata": {
        "id": "Hun_zQHpnpzb"
      },
      "source": [
        "cols = df.columns.tolist()\n",
        "cols = [c for c in cols if c not in ['outcome', 'ID']]\n",
        "X = df[cols]\n",
        "Y = df['outcome']"
      ],
      "execution_count": null,
      "outputs": []
    },
    {
      "cell_type": "code",
      "metadata": {
        "colab": {
          "base_uri": "https://localhost:8080/"
        },
        "id": "DI9r2nJrm9Gk",
        "outputId": "4f02b669-d4ae-40a3-c485-d4ad411d4e9d"
      },
      "source": [
        "from imblearn.over_sampling import RandomOverSampler\n",
        "smp = RandomOverSampler(random_state = 42)\n",
        "X_new, Y_new = smp.fit_resample(X,Y)\n",
        "print(X_new.shape, Y_new.shape)"
      ],
      "execution_count": null,
      "outputs": [
        {
          "output_type": "stream",
          "name": "stdout",
          "text": [
            "(835, 13) (835,)\n"
          ]
        }
      ]
    },
    {
      "cell_type": "code",
      "metadata": {
        "colab": {
          "base_uri": "https://localhost:8080/",
          "height": 356
        },
        "id": "gmWt1CjAo_I-",
        "outputId": "eddad6ff-adae-4143-8886-5706e1dcd4ca"
      },
      "source": [
        "sns.countplot(X_new['sex'])"
      ],
      "execution_count": null,
      "outputs": [
        {
          "output_type": "stream",
          "name": "stderr",
          "text": [
            "/usr/local/lib/python3.7/dist-packages/seaborn/_decorators.py:43: FutureWarning: Pass the following variable as a keyword arg: x. From version 0.12, the only valid positional argument will be `data`, and passing other arguments without an explicit keyword will result in an error or misinterpretation.\n",
            "  FutureWarning\n"
          ]
        },
        {
          "output_type": "execute_result",
          "data": {
            "text/plain": [
              "<matplotlib.axes._subplots.AxesSubplot at 0x7f7eb1ef33d0>"
            ]
          },
          "metadata": {},
          "execution_count": 13
        },
        {
          "output_type": "display_data",
          "data": {
            "image/png": "[encoded data removed]",
            "text/plain": [
              "<Figure size 432x288 with 1 Axes>"
            ]
          },
          "metadata": {
            "needs_background": "light"
          }
        }
      ]
    },
    {
      "cell_type": "markdown",
      "metadata": {
        "id": "tQtbB3MnqHK2"
      },
      "source": [
        "Oversampling didnt work initally, will look into it later."
      ]
    },
    {
      "cell_type": "code",
      "metadata": {
        "colab": {
          "base_uri": "https://localhost:8080/",
          "height": 356
        },
        "id": "AJWtHhL0kxAy",
        "outputId": "ba030ca8-773b-4f7b-cd90-301c23834588"
      },
      "source": [
        "sns.countplot(df.sex, hue = df.outcome)"
      ],
      "execution_count": null,
      "outputs": [
        {
          "output_type": "stream",
          "name": "stderr",
          "text": [
            "/usr/local/lib/python3.7/dist-packages/seaborn/_decorators.py:43: FutureWarning: Pass the following variable as a keyword arg: x. From version 0.12, the only valid positional argument will be `data`, and passing other arguments without an explicit keyword will result in an error or misinterpretation.\n",
            "  FutureWarning\n"
          ]
        },
        {
          "output_type": "execute_result",
          "data": {
            "text/plain": [
              "<matplotlib.axes._subplots.AxesSubplot at 0x7f7eb1e49d10>"
            ]
          },
          "metadata": {},
          "execution_count": 14
        },
        {
          "output_type": "display_data",
          "data": {
            "image/png": "[encoded data removed]",
            "text/plain": [
              "<Figure size 432x288 with 1 Axes>"
            ]
          },
          "metadata": {
            "needs_background": "light"
          }
        }
      ]
    },
    {
      "cell_type": "markdown",
      "metadata": {
        "id": "rD0ROcWrk0bR"
      },
      "source": [
        "By looking at the age in comparison to the outcome, we can further confirm our statement, that men are more likely to develop cardiovascular diseases than women, thus the distribution within each of the sexes is correct."
      ]
    },
    {
      "cell_type": "markdown",
      "metadata": {
        "id": "rZnZEX4pVcVX"
      },
      "source": [
        "# cp"
      ]
    },
    {
      "cell_type": "markdown",
      "metadata": {
        "id": "LKxUmcq8sowP"
      },
      "source": [
        "Angina ➡ Type of chest pain caused by reduced blood flow to the heart. \n",
        "- Value 1: Typical angina ➡ Discomfort that is noted when the heart does not get enough blood or oxygen. Typically, this is caused by blockage or plaque buildup in the coronary arteries. Men commonly have the usual kind of angina as described above. [3]\n",
        "\n",
        "- Value 2: Atypical angina ➡ Unusual signs that occur in CHD patients such as fatigue, sleep disturbances, shortness of breath, and chest discomfort. This type of Angina is usually more common among women. [3]\n",
        "\n",
        "- Value 3: Non-anginal pain ➡ Non-cardiac chest pain is the term that is used to describe pain in the chest that is not caused by heart disease or a heart attack.\n",
        "\n",
        "- Value 4: Asymptomatic ➡ Occurs when the heart temporarily doesn’t receive enough blood (and thus oxygen), but the person with the oxygen-deprivation doesn’t notice any effects. "
      ]
    },
    {
      "cell_type": "code",
      "metadata": {
        "colab": {
          "base_uri": "https://localhost:8080/",
          "height": 356
        },
        "id": "DrJp0DHJYrnH",
        "outputId": "8e0406a0-7459-4800-dab9-7164b2ea28ed"
      },
      "source": [
        "sns.countplot(df.cp, hue = df.outcome)"
      ],
      "execution_count": null,
      "outputs": [
        {
          "output_type": "stream",
          "name": "stderr",
          "text": [
            "/usr/local/lib/python3.7/dist-packages/seaborn/_decorators.py:43: FutureWarning: Pass the following variable as a keyword arg: x. From version 0.12, the only valid positional argument will be `data`, and passing other arguments without an explicit keyword will result in an error or misinterpretation.\n",
            "  FutureWarning\n"
          ]
        },
        {
          "output_type": "execute_result",
          "data": {
            "text/plain": [
              "<matplotlib.axes._subplots.AxesSubplot at 0x7f7eb1e36f90>"
            ]
          },
          "metadata": {},
          "execution_count": 15
        },
        {
          "output_type": "display_data",
          "data": {
            "image/png": "[encoded data removed]",
            "text/plain": [
              "<Figure size 432x288 with 1 Axes>"
            ]
          },
          "metadata": {
            "needs_background": "light"
          }
        }
      ]
    },
    {
      "cell_type": "markdown",
      "metadata": {
        "id": "pwkce1x0rhq-"
      },
      "source": [
        "We can see that most CHDs come from patients with asymptomatic angina, which are people with hearts that do not receive enough oxygen. There isn't significant imbalancing in this column and the distribution shows enough insights."
      ]
    },
    {
      "cell_type": "markdown",
      "metadata": {
        "id": "EUyqzsPbVf-k"
      },
      "source": [
        "# restbps"
      ]
    },
    {
      "cell_type": "code",
      "metadata": {
        "colab": {
          "base_uri": "https://localhost:8080/",
          "height": 390
        },
        "id": "ptqoSA0rYumU",
        "outputId": "95b36998-4cb8-4e9a-faa0-6168bef7ea2e"
      },
      "source": [
        "sns.distplot(df.restbps)\n",
        "sns.distplot(df_chd.restbps)"
      ],
      "execution_count": null,
      "outputs": [
        {
          "output_type": "stream",
          "name": "stderr",
          "text": [
            "/usr/local/lib/python3.7/dist-packages/seaborn/distributions.py:2619: FutureWarning: `distplot` is a deprecated function and will be removed in a future version. Please adapt your code to use either `displot` (a figure-level function with similar flexibility) or `histplot` (an axes-level function for histograms).\n",
            "  warnings.warn(msg, FutureWarning)\n",
            "/usr/local/lib/python3.7/dist-packages/seaborn/distributions.py:2619: FutureWarning: `distplot` is a deprecated function and will be removed in a future version. Please adapt your code to use either `displot` (a figure-level function with similar flexibility) or `histplot` (an axes-level function for histograms).\n",
            "  warnings.warn(msg, FutureWarning)\n"
          ]
        },
        {
          "output_type": "execute_result",
          "data": {
            "text/plain": [
              "<matplotlib.axes._subplots.AxesSubplot at 0x7f7eb1d08550>"
            ]
          },
          "metadata": {},
          "execution_count": 16
        },
        {
          "output_type": "display_data",
          "data": {
            "image/png": "[encoded data removed]",
            "text/plain": [
              "<Figure size 432x288 with 1 Axes>"
            ]
          },
          "metadata": {
            "needs_background": "light"
          }
        }
      ]
    },
    {
      "cell_type": "markdown",
      "metadata": {
        "id": "HDs_UwOlvwlQ"
      },
      "source": [
        "We can see that the distribution of the restbps is almost identical for all patients in comparison to patients only with chd, this **might** indicate that the restbps is not a significant factor leading to CHD.\n",
        "\n",
        "However, sources indicate otherwise \"High blood pressure (BP) is one of the most important risk factors for cardiovascular disease (CVD), which is the leading cause of mortality. Approximately 54% of strokes and 47% of coronary heart diseases, worldwide, are attributable to high BP.\" [4]"
      ]
    },
    {
      "cell_type": "code",
      "metadata": {
        "colab": {
          "base_uri": "https://localhost:8080/",
          "height": 356
        },
        "id": "L1HboSBvveLG",
        "outputId": "94103b0c-220c-4cad-887b-2ca983da4a35"
      },
      "source": [
        "sns.boxplot(df.restbps)"
      ],
      "execution_count": null,
      "outputs": [
        {
          "output_type": "stream",
          "name": "stderr",
          "text": [
            "/usr/local/lib/python3.7/dist-packages/seaborn/_decorators.py:43: FutureWarning: Pass the following variable as a keyword arg: x. From version 0.12, the only valid positional argument will be `data`, and passing other arguments without an explicit keyword will result in an error or misinterpretation.\n",
            "  FutureWarning\n"
          ]
        },
        {
          "output_type": "execute_result",
          "data": {
            "text/plain": [
              "<matplotlib.axes._subplots.AxesSubplot at 0x7f7eb1cca4d0>"
            ]
          },
          "metadata": {},
          "execution_count": 17
        },
        {
          "output_type": "display_data",
          "data": {
            "image/png": "[encoded data removed]",
            "text/plain": [
              "<Figure size 432x288 with 1 Axes>"
            ]
          },
          "metadata": {
            "needs_background": "light"
          }
        }
      ]
    },
    {
      "cell_type": "markdown",
      "metadata": {
        "id": "OdCTd-ypukTR"
      },
      "source": [
        "We can see that there is nothing wrong with the distribution of the data for the resting blood pressure., however there are some outliers."
      ]
    },
    {
      "cell_type": "code",
      "metadata": {
        "colab": {
          "base_uri": "https://localhost:8080/",
          "height": 297
        },
        "id": "jQa9YSdsuvPL",
        "outputId": "203dc468-6169-4e3b-dafe-4c226c3c8ba1"
      },
      "source": [
        "df[df['restbps'] > 172]"
      ],
      "execution_count": null,
      "outputs": [
        {
          "output_type": "execute_result",
          "data": {
            "text/html": [
              "<div>\n",
              "<style scoped>\n",
              "    .dataframe tbody tr th:only-of-type {\n",
              "        vertical-align: middle;\n",
              "    }\n",
              "\n",
              "    .dataframe tbody tr th {\n",
              "        vertical-align: top;\n",
              "    }\n",
              "\n",
              "    .dataframe thead th {\n",
              "        text-align: right;\n",
              "    }\n",
              "</style>\n",
              "<table border=\"1\" class=\"dataframe\">\n",
              "  <thead>\n",
              "    <tr style=\"text-align: right;\">\n",
              "      <th></th>\n",
              "      <th>ID</th>\n",
              "      <th>age</th>\n",
              "      <th>sex</th>\n",
              "      <th>cp</th>\n",
              "      <th>restbps</th>\n",
              "      <th>chol</th>\n",
              "      <th>fbs</th>\n",
              "      <th>restecg</th>\n",
              "      <th>thalack</th>\n",
              "      <th>exang</th>\n",
              "      <th>oldpeak</th>\n",
              "      <th>slope</th>\n",
              "      <th>ca</th>\n",
              "      <th>thal</th>\n",
              "      <th>outcome</th>\n",
              "    </tr>\n",
              "  </thead>\n",
              "  <tbody>\n",
              "    <tr>\n",
              "      <th>83</th>\n",
              "      <td>hdoamedd2x2n6psut</td>\n",
              "      <td>68.0</td>\n",
              "      <td>1</td>\n",
              "      <td>3</td>\n",
              "      <td>180</td>\n",
              "      <td>274</td>\n",
              "      <td>1</td>\n",
              "      <td>2</td>\n",
              "      <td>150</td>\n",
              "      <td>1</td>\n",
              "      <td>1.6</td>\n",
              "      <td>2</td>\n",
              "      <td>0</td>\n",
              "      <td>7</td>\n",
              "      <td>3</td>\n",
              "    </tr>\n",
              "    <tr>\n",
              "      <th>126</th>\n",
              "      <td>hdoamedx2n6w7psut</td>\n",
              "      <td>56.0</td>\n",
              "      <td>0</td>\n",
              "      <td>4</td>\n",
              "      <td>200</td>\n",
              "      <td>288</td>\n",
              "      <td>1</td>\n",
              "      <td>2</td>\n",
              "      <td>133</td>\n",
              "      <td>1</td>\n",
              "      <td>4.0</td>\n",
              "      <td>3</td>\n",
              "      <td>2</td>\n",
              "      <td>7</td>\n",
              "      <td>3</td>\n",
              "    </tr>\n",
              "    <tr>\n",
              "      <th>172</th>\n",
              "      <td>hdoamed8zhx6fpsut</td>\n",
              "      <td>59.0</td>\n",
              "      <td>0</td>\n",
              "      <td>4</td>\n",
              "      <td>174</td>\n",
              "      <td>249</td>\n",
              "      <td>0</td>\n",
              "      <td>0</td>\n",
              "      <td>143</td>\n",
              "      <td>1</td>\n",
              "      <td>0.0</td>\n",
              "      <td>2</td>\n",
              "      <td>0</td>\n",
              "      <td>3</td>\n",
              "      <td>1</td>\n",
              "    </tr>\n",
              "    <tr>\n",
              "      <th>183</th>\n",
              "      <td>hdoamedt87reqpsut</td>\n",
              "      <td>59.0</td>\n",
              "      <td>1</td>\n",
              "      <td>1</td>\n",
              "      <td>178</td>\n",
              "      <td>270</td>\n",
              "      <td>0</td>\n",
              "      <td>2</td>\n",
              "      <td>145</td>\n",
              "      <td>0</td>\n",
              "      <td>4.2</td>\n",
              "      <td>3</td>\n",
              "      <td>0</td>\n",
              "      <td>7</td>\n",
              "      <td>0</td>\n",
              "    </tr>\n",
              "    <tr>\n",
              "      <th>188</th>\n",
              "      <td>hdoamed7bg9v1psut</td>\n",
              "      <td>54.0</td>\n",
              "      <td>1</td>\n",
              "      <td>2</td>\n",
              "      <td>192</td>\n",
              "      <td>283</td>\n",
              "      <td>0</td>\n",
              "      <td>2</td>\n",
              "      <td>195</td>\n",
              "      <td>0</td>\n",
              "      <td>0.0</td>\n",
              "      <td>1</td>\n",
              "      <td>1</td>\n",
              "      <td>7</td>\n",
              "      <td>1</td>\n",
              "    </tr>\n",
              "    <tr>\n",
              "      <th>201</th>\n",
              "      <td>hdoamedza35zgpsut</td>\n",
              "      <td>64.0</td>\n",
              "      <td>0</td>\n",
              "      <td>4</td>\n",
              "      <td>180</td>\n",
              "      <td>325</td>\n",
              "      <td>0</td>\n",
              "      <td>0</td>\n",
              "      <td>154</td>\n",
              "      <td>1</td>\n",
              "      <td>0.0</td>\n",
              "      <td>1</td>\n",
              "      <td>0</td>\n",
              "      <td>3</td>\n",
              "      <td>0</td>\n",
              "    </tr>\n",
              "    <tr>\n",
              "      <th>213</th>\n",
              "      <td>hdoamedmjbpjcpsut</td>\n",
              "      <td>66.0</td>\n",
              "      <td>0</td>\n",
              "      <td>4</td>\n",
              "      <td>178</td>\n",
              "      <td>228</td>\n",
              "      <td>1</td>\n",
              "      <td>0</td>\n",
              "      <td>165</td>\n",
              "      <td>1</td>\n",
              "      <td>1.0</td>\n",
              "      <td>2</td>\n",
              "      <td>2</td>\n",
              "      <td>7</td>\n",
              "      <td>3</td>\n",
              "    </tr>\n",
              "    <tr>\n",
              "      <th>231</th>\n",
              "      <td>hdoamedg9v121psut</td>\n",
              "      <td>55.0</td>\n",
              "      <td>0</td>\n",
              "      <td>4</td>\n",
              "      <td>180</td>\n",
              "      <td>327</td>\n",
              "      <td>0</td>\n",
              "      <td>1</td>\n",
              "      <td>117</td>\n",
              "      <td>1</td>\n",
              "      <td>3.4</td>\n",
              "      <td>2</td>\n",
              "      <td>0</td>\n",
              "      <td>3</td>\n",
              "      <td>2</td>\n",
              "    </tr>\n",
              "  </tbody>\n",
              "</table>\n",
              "</div>"
            ],
            "text/plain": [
              "                    ID   age  sex  cp  restbps  ...  oldpeak  slope  ca thal  outcome\n",
              "83   hdoamedd2x2n6psut  68.0    1   3      180  ...      1.6      2   0    7        3\n",
              "126  hdoamedx2n6w7psut  56.0    0   4      200  ...      4.0      3   2    7        3\n",
              "172  hdoamed8zhx6fpsut  59.0    0   4      174  ...      0.0      2   0    3        1\n",
              "183  hdoamedt87reqpsut  59.0    1   1      178  ...      4.2      3   0    7        0\n",
              "188  hdoamed7bg9v1psut  54.0    1   2      192  ...      0.0      1   1    7        1\n",
              "201  hdoamedza35zgpsut  64.0    0   4      180  ...      0.0      1   0    3        0\n",
              "213  hdoamedmjbpjcpsut  66.0    0   4      178  ...      1.0      2   2    7        3\n",
              "231  hdoamedg9v121psut  55.0    0   4      180  ...      3.4      2   0    3        2\n",
              "\n",
              "[8 rows x 15 columns]"
            ]
          },
          "metadata": {},
          "execution_count": 18
        }
      ]
    },
    {
      "cell_type": "markdown",
      "metadata": {
        "id": "69GLsOjuVi62"
      },
      "source": [
        "# chol"
      ]
    },
    {
      "cell_type": "code",
      "metadata": {
        "colab": {
          "base_uri": "https://localhost:8080/",
          "height": 458
        },
        "id": "sFaFl372Y0Fs",
        "outputId": "c6661132-b672-46f6-9bcc-c9e18fdd50d0"
      },
      "source": [
        "#Printing the distribution without the outlier\n",
        "sns.distplot(df[df['chol'] < 1000]['chol'], rug = True)\n",
        "sns.distplot(df_chd[df_chd['chol'] < 1000]['chol'], rug = True)\n",
        "print(df['chol'].max())"
      ],
      "execution_count": null,
      "outputs": [
        {
          "output_type": "stream",
          "name": "stderr",
          "text": [
            "/usr/local/lib/python3.7/dist-packages/seaborn/distributions.py:2619: FutureWarning: `distplot` is a deprecated function and will be removed in a future version. Please adapt your code to use either `displot` (a figure-level function with similar flexibility) or `histplot` (an axes-level function for histograms).\n",
            "  warnings.warn(msg, FutureWarning)\n",
            "/usr/local/lib/python3.7/dist-packages/seaborn/distributions.py:2103: FutureWarning: The `axis` variable is no longer used and will be removed. Instead, assign variables directly to `x` or `y`.\n",
            "  warnings.warn(msg, FutureWarning)\n",
            "/usr/local/lib/python3.7/dist-packages/seaborn/distributions.py:2619: FutureWarning: `distplot` is a deprecated function and will be removed in a future version. Please adapt your code to use either `displot` (a figure-level function with similar flexibility) or `histplot` (an axes-level function for histograms).\n",
            "  warnings.warn(msg, FutureWarning)\n",
            "/usr/local/lib/python3.7/dist-packages/seaborn/distributions.py:2103: FutureWarning: The `axis` variable is no longer used and will be removed. Instead, assign variables directly to `x` or `y`.\n",
            "  warnings.warn(msg, FutureWarning)\n"
          ]
        },
        {
          "output_type": "stream",
          "name": "stdout",
          "text": [
            "3600\n"
          ]
        },
        {
          "output_type": "display_data",
          "data": {
            "image/png": "[encoded data removed]",
            "text/plain": [
              "<Figure size 432x288 with 1 Axes>"
            ]
          },
          "metadata": {
            "needs_background": "light"
          }
        }
      ]
    },
    {
      "cell_type": "markdown",
      "metadata": {
        "id": "Ns3ywfgoTio3"
      },
      "source": [
        "When omitting data from patients that do not have CHD, we can see that the distribution slightly shifts to the right, showing that patients with CHD, have higher levels of cholesterol. Most of the patients have a cholesterol level of around 230-270, which is considered very high."
      ]
    },
    {
      "cell_type": "markdown",
      "metadata": {
        "id": "_RRprng3WM73"
      },
      "source": [
        "We can create three categories:\n",
        "- < 200: Desirable.\n",
        "- 200 <= x <= 239: Bordeline high.\n",
        "- greater than 239: High. "
      ]
    },
    {
      "cell_type": "code",
      "metadata": {
        "colab": {
          "base_uri": "https://localhost:8080/",
          "height": 356
        },
        "id": "TmpYA_8GWsWS",
        "outputId": "9e2744dc-1432-4856-a48b-9f468ef9be93"
      },
      "source": [
        "df['chol_group'] = pd.cut(df['chol'], bins = [0,200,239,9999])\n",
        "df['chol_group'] = df['chol_group'].astype('str')\n",
        "df['outcome_new'] = df['outcome'].replace({2:1, 3:1, 4:1})\n",
        "sns.countplot(df['chol_group'], hue = df['outcome'])"
      ],
      "execution_count": null,
      "outputs": [
        {
          "output_type": "stream",
          "name": "stderr",
          "text": [
            "/usr/local/lib/python3.7/dist-packages/seaborn/_decorators.py:43: FutureWarning: Pass the following variable as a keyword arg: x. From version 0.12, the only valid positional argument will be `data`, and passing other arguments without an explicit keyword will result in an error or misinterpretation.\n",
            "  FutureWarning\n"
          ]
        },
        {
          "output_type": "execute_result",
          "data": {
            "text/plain": [
              "<matplotlib.axes._subplots.AxesSubplot at 0x7f7ea9298c10>"
            ]
          },
          "metadata": {},
          "execution_count": 20
        },
        {
          "output_type": "display_data",
          "data": {
            "image/png": "[encoded data removed]",
            "text/plain": [
              "<Figure size 432x288 with 1 Axes>"
            ]
          },
          "metadata": {
            "needs_background": "light"
          }
        }
      ]
    },
    {
      "cell_type": "markdown",
      "metadata": {
        "id": "Y6X6BdjZ9PE2"
      },
      "source": [
        "Here we can see that patients with very high cholesterol, the number of people with CHD are more than the number of people without CHD; indicating that cholesterol is a significant factor that impacts CHD."
      ]
    },
    {
      "cell_type": "code",
      "metadata": {
        "colab": {
          "base_uri": "https://localhost:8080/",
          "height": 80
        },
        "id": "s4HPxgtUUOZ_",
        "outputId": "47b1607a-ec61-4780-b223-42911948dbd3"
      },
      "source": [
        "df[df['chol'] == 3600]"
      ],
      "execution_count": null,
      "outputs": [
        {
          "output_type": "execute_result",
          "data": {
            "text/html": [
              "<div>\n",
              "<style scoped>\n",
              "    .dataframe tbody tr th:only-of-type {\n",
              "        vertical-align: middle;\n",
              "    }\n",
              "\n",
              "    .dataframe tbody tr th {\n",
              "        vertical-align: top;\n",
              "    }\n",
              "\n",
              "    .dataframe thead th {\n",
              "        text-align: right;\n",
              "    }\n",
              "</style>\n",
              "<table border=\"1\" class=\"dataframe\">\n",
              "  <thead>\n",
              "    <tr style=\"text-align: right;\">\n",
              "      <th></th>\n",
              "      <th>ID</th>\n",
              "      <th>age</th>\n",
              "      <th>sex</th>\n",
              "      <th>cp</th>\n",
              "      <th>restbps</th>\n",
              "      <th>chol</th>\n",
              "      <th>fbs</th>\n",
              "      <th>restecg</th>\n",
              "      <th>thalack</th>\n",
              "      <th>exang</th>\n",
              "      <th>oldpeak</th>\n",
              "      <th>slope</th>\n",
              "      <th>ca</th>\n",
              "      <th>thal</th>\n",
              "      <th>outcome</th>\n",
              "      <th>chol_group</th>\n",
              "      <th>outcome_new</th>\n",
              "    </tr>\n",
              "  </thead>\n",
              "  <tbody>\n",
              "    <tr>\n",
              "      <th>75</th>\n",
              "      <td>hdoamedv93w6dpsut</td>\n",
              "      <td>65.0</td>\n",
              "      <td>0</td>\n",
              "      <td>3</td>\n",
              "      <td>160</td>\n",
              "      <td>3600</td>\n",
              "      <td>0</td>\n",
              "      <td>2</td>\n",
              "      <td>151</td>\n",
              "      <td>0</td>\n",
              "      <td>0.8</td>\n",
              "      <td>1</td>\n",
              "      <td>0</td>\n",
              "      <td>3</td>\n",
              "      <td>0</td>\n",
              "      <td>(239, 9999]</td>\n",
              "      <td>0</td>\n",
              "    </tr>\n",
              "  </tbody>\n",
              "</table>\n",
              "</div>"
            ],
            "text/plain": [
              "                   ID   age  sex  cp  ...  thal  outcome   chol_group  outcome_new\n",
              "75  hdoamedv93w6dpsut  65.0    0   3  ...     3        0  (239, 9999]            0\n",
              "\n",
              "[1 rows x 17 columns]"
            ]
          },
          "metadata": {},
          "execution_count": 21
        }
      ]
    },
    {
      "cell_type": "markdown",
      "metadata": {
        "id": "queDxDRfUmJg"
      },
      "source": [
        "\"Levels of 100 to 129 mg/dL are acceptable for people with no health issues but may be of more concern for those with heart disease or heart disease risk factors. A reading of 130 to 159 mg/dL is borderline high and 160 to 189 mg/dL is high. A reading of 190 mg/dL or higher is considered very high.\" [5] Therefore, we can conclude that this data point is definetely an outlier and we can remove it from our data, since its not possible for a patient to have a cholesterol level of 3600."
      ]
    },
    {
      "cell_type": "code",
      "metadata": {
        "id": "5Fj0TkeEVZMt"
      },
      "source": [
        "df_new = df_new[df_new['chol'] != 3600]"
      ],
      "execution_count": null,
      "outputs": []
    },
    {
      "cell_type": "markdown",
      "metadata": {
        "id": "KhEiEMgSVlLF"
      },
      "source": [
        "# fbs"
      ]
    },
    {
      "cell_type": "markdown",
      "metadata": {
        "id": "NVwgd_xA-a3v"
      },
      "source": [
        " \"Low fasting glucose was significantly and inversely associated with coronary heart disease.\" [6] Therefore, we can conclude that there is an inverse relationship between the fasting blood sugar and the outcome. However, this is inevident in the data, as we can see that for patients will low fbs, the number of patients that have CHD is lower than the ones who dont. As opposed to high fbs where theyre equal."
      ]
    },
    {
      "cell_type": "code",
      "metadata": {
        "colab": {
          "base_uri": "https://localhost:8080/",
          "height": 356
        },
        "id": "_GhHD02QY4GE",
        "outputId": "5514cb20-4dc6-4f93-a783-5a2f4376023a"
      },
      "source": [
        "sns.countplot(df.fbs, hue = df.outcome_new)"
      ],
      "execution_count": null,
      "outputs": [
        {
          "output_type": "stream",
          "name": "stderr",
          "text": [
            "/usr/local/lib/python3.7/dist-packages/seaborn/_decorators.py:43: FutureWarning: Pass the following variable as a keyword arg: x. From version 0.12, the only valid positional argument will be `data`, and passing other arguments without an explicit keyword will result in an error or misinterpretation.\n",
            "  FutureWarning\n"
          ]
        },
        {
          "output_type": "execute_result",
          "data": {
            "text/plain": [
              "<matplotlib.axes._subplots.AxesSubplot at 0x7f7eb1b47b90>"
            ]
          },
          "metadata": {},
          "execution_count": 23
        },
        {
          "output_type": "display_data",
          "data": {
            "image/png": "[encoded data removed]",
            "text/plain": [
              "<Figure size 432x288 with 1 Axes>"
            ]
          },
          "metadata": {
            "needs_background": "light"
          }
        }
      ]
    },
    {
      "cell_type": "markdown",
      "metadata": {
        "id": "B7uKoBkH_vwU"
      },
      "source": [
        "Therefore, we can use oversampling to help balance the dataset. So far the imbalancing issue occurs for both **sex** and **fbs** variables. (Ask clients about imbalancing)."
      ]
    },
    {
      "cell_type": "markdown",
      "metadata": {
        "id": "51hZ9cIOzy_R"
      },
      "source": [
        "# restecg"
      ]
    },
    {
      "cell_type": "code",
      "metadata": {
        "colab": {
          "base_uri": "https://localhost:8080/",
          "height": 356
        },
        "id": "JLgemN3Uzq50",
        "outputId": "f6d3febc-7ae0-40c8-abca-adf77a4981ee"
      },
      "source": [
        "sns.countplot(df.restecg, hue = df.outcome_new)"
      ],
      "execution_count": null,
      "outputs": [
        {
          "output_type": "stream",
          "name": "stderr",
          "text": [
            "/usr/local/lib/python3.7/dist-packages/seaborn/_decorators.py:43: FutureWarning: Pass the following variable as a keyword arg: x. From version 0.12, the only valid positional argument will be `data`, and passing other arguments without an explicit keyword will result in an error or misinterpretation.\n",
            "  FutureWarning\n"
          ]
        },
        {
          "output_type": "execute_result",
          "data": {
            "text/plain": [
              "<matplotlib.axes._subplots.AxesSubplot at 0x7f7ea92f8bd0>"
            ]
          },
          "metadata": {},
          "execution_count": 24
        },
        {
          "output_type": "display_data",
          "data": {
            "image/png": "[encoded data removed]",
            "text/plain": [
              "<Figure size 432x288 with 1 Axes>"
            ]
          },
          "metadata": {
            "needs_background": "light"
          }
        }
      ]
    },
    {
      "cell_type": "markdown",
      "metadata": {
        "id": "mDUZQ_UuAW9C"
      },
      "source": [
        "The data for restecg is evidently imbalanced, where there isnt enough data collected for patients that have ST-T wave abnormality."
      ]
    },
    {
      "cell_type": "code",
      "metadata": {
        "colab": {
          "base_uri": "https://localhost:8080/",
          "height": 173
        },
        "id": "FHHk8tL2BCin",
        "outputId": "d0bf96e7-9bc9-4b0d-b4e7-67a702c938cc"
      },
      "source": [
        "df[df['restecg'] == 1]"
      ],
      "execution_count": null,
      "outputs": [
        {
          "output_type": "execute_result",
          "data": {
            "text/html": [
              "<div>\n",
              "<style scoped>\n",
              "    .dataframe tbody tr th:only-of-type {\n",
              "        vertical-align: middle;\n",
              "    }\n",
              "\n",
              "    .dataframe tbody tr th {\n",
              "        vertical-align: top;\n",
              "    }\n",
              "\n",
              "    .dataframe thead th {\n",
              "        text-align: right;\n",
              "    }\n",
              "</style>\n",
              "<table border=\"1\" class=\"dataframe\">\n",
              "  <thead>\n",
              "    <tr style=\"text-align: right;\">\n",
              "      <th></th>\n",
              "      <th>ID</th>\n",
              "      <th>age</th>\n",
              "      <th>sex</th>\n",
              "      <th>cp</th>\n",
              "      <th>restbps</th>\n",
              "      <th>chol</th>\n",
              "      <th>fbs</th>\n",
              "      <th>restecg</th>\n",
              "      <th>thalack</th>\n",
              "      <th>exang</th>\n",
              "      <th>oldpeak</th>\n",
              "      <th>slope</th>\n",
              "      <th>ca</th>\n",
              "      <th>thal</th>\n",
              "      <th>outcome</th>\n",
              "      <th>chol_group</th>\n",
              "      <th>outcome_new</th>\n",
              "    </tr>\n",
              "  </thead>\n",
              "  <tbody>\n",
              "    <tr>\n",
              "      <th>231</th>\n",
              "      <td>hdoamedg9v121psut</td>\n",
              "      <td>55.0</td>\n",
              "      <td>0</td>\n",
              "      <td>4</td>\n",
              "      <td>180</td>\n",
              "      <td>327</td>\n",
              "      <td>0</td>\n",
              "      <td>1</td>\n",
              "      <td>117</td>\n",
              "      <td>1</td>\n",
              "      <td>3.4</td>\n",
              "      <td>2</td>\n",
              "      <td>0</td>\n",
              "      <td>3</td>\n",
              "      <td>2</td>\n",
              "      <td>(239, 9999]</td>\n",
              "      <td>1</td>\n",
              "    </tr>\n",
              "    <tr>\n",
              "      <th>257</th>\n",
              "      <td>hdoamedxpb887psut</td>\n",
              "      <td>76.0</td>\n",
              "      <td>0</td>\n",
              "      <td>3</td>\n",
              "      <td>140</td>\n",
              "      <td>197</td>\n",
              "      <td>0</td>\n",
              "      <td>1</td>\n",
              "      <td>116</td>\n",
              "      <td>0</td>\n",
              "      <td>1.1</td>\n",
              "      <td>2</td>\n",
              "      <td>0</td>\n",
              "      <td>3</td>\n",
              "      <td>0</td>\n",
              "      <td>(0, 200]</td>\n",
              "      <td>0</td>\n",
              "    </tr>\n",
              "    <tr>\n",
              "      <th>282</th>\n",
              "      <td>hdoamedr6pt29psut</td>\n",
              "      <td>55.0</td>\n",
              "      <td>0</td>\n",
              "      <td>4</td>\n",
              "      <td>128</td>\n",
              "      <td>205</td>\n",
              "      <td>0</td>\n",
              "      <td>1</td>\n",
              "      <td>130</td>\n",
              "      <td>1</td>\n",
              "      <td>2.0</td>\n",
              "      <td>2</td>\n",
              "      <td>1</td>\n",
              "      <td>7</td>\n",
              "      <td>3</td>\n",
              "      <td>(200, 239]</td>\n",
              "      <td>1</td>\n",
              "    </tr>\n",
              "    <tr>\n",
              "      <th>285</th>\n",
              "      <td>hdoamed6ows42psut</td>\n",
              "      <td>58.0</td>\n",
              "      <td>1</td>\n",
              "      <td>4</td>\n",
              "      <td>114</td>\n",
              "      <td>318</td>\n",
              "      <td>0</td>\n",
              "      <td>1</td>\n",
              "      <td>140</td>\n",
              "      <td>0</td>\n",
              "      <td>4.4</td>\n",
              "      <td>3</td>\n",
              "      <td>3</td>\n",
              "      <td>6</td>\n",
              "      <td>4</td>\n",
              "      <td>(239, 9999]</td>\n",
              "      <td>1</td>\n",
              "    </tr>\n",
              "  </tbody>\n",
              "</table>\n",
              "</div>"
            ],
            "text/plain": [
              "                    ID   age  sex  cp  ...  thal  outcome   chol_group  outcome_new\n",
              "231  hdoamedg9v121psut  55.0    0   4  ...     3        2  (239, 9999]            1\n",
              "257  hdoamedxpb887psut  76.0    0   3  ...     3        0     (0, 200]            0\n",
              "282  hdoamedr6pt29psut  55.0    0   4  ...     7        3   (200, 239]            1\n",
              "285  hdoamed6ows42psut  58.0    1   4  ...     6        4  (239, 9999]            1\n",
              "\n",
              "[4 rows x 17 columns]"
            ]
          },
          "metadata": {},
          "execution_count": 25
        }
      ]
    },
    {
      "cell_type": "markdown",
      "metadata": {
        "id": "KHgaCv_GArFp"
      },
      "source": [
        "Instead of oversampling, we can remove the data with wave abnormality since it can potentially impact our EDA, we can conisder them outliers, since there are only 4 patients out of 310. (Ask client if wave abnormality is a common issue with CHD)."
      ]
    },
    {
      "cell_type": "code",
      "metadata": {
        "id": "B2OEeyK8BYK1"
      },
      "source": [
        "df_new = df_new[df_new['restecg'] != 1]"
      ],
      "execution_count": null,
      "outputs": []
    },
    {
      "cell_type": "markdown",
      "metadata": {
        "id": "hu6d3QC5z5Dn"
      },
      "source": [
        "# thalack"
      ]
    },
    {
      "cell_type": "code",
      "metadata": {
        "colab": {
          "base_uri": "https://localhost:8080/"
        },
        "id": "ixtIWA2nz-Dj",
        "outputId": "a46195e8-c33a-41d3-fce5-cbc947a59ecd"
      },
      "source": [
        "data_types = df.dtypes\n",
        "print(data_types)"
      ],
      "execution_count": null,
      "outputs": [
        {
          "output_type": "stream",
          "name": "stdout",
          "text": [
            "ID              object\n",
            "age            float64\n",
            "sex              int64\n",
            "cp               int64\n",
            "restbps          int64\n",
            "chol             int64\n",
            "fbs              int64\n",
            "restecg          int64\n",
            "thalack         object\n",
            "exang            int64\n",
            "oldpeak        float64\n",
            "slope            int64\n",
            "ca              object\n",
            "thal            object\n",
            "outcome          int64\n",
            "chol_group      object\n",
            "outcome_new      int64\n",
            "dtype: object\n"
          ]
        }
      ]
    },
    {
      "cell_type": "markdown",
      "metadata": {
        "id": "m7gPlvGJ0tnD"
      },
      "source": [
        "Thalack is identified as an object, since there are multiple data types within the same column, a lot of the values cannot be converted into float values when plotting the distplot."
      ]
    },
    {
      "cell_type": "markdown",
      "metadata": {
        "id": "MHf8egBH1FRH"
      },
      "source": [
        "# exang"
      ]
    },
    {
      "cell_type": "code",
      "metadata": {
        "colab": {
          "base_uri": "https://localhost:8080/",
          "height": 356
        },
        "id": "NN5T02441H1w",
        "outputId": "7f7f827b-5068-48b7-ea4e-1935eaf7b0dc"
      },
      "source": [
        "sns.countplot(df.exang, hue = df.outcome_new)"
      ],
      "execution_count": null,
      "outputs": [
        {
          "output_type": "stream",
          "name": "stderr",
          "text": [
            "/usr/local/lib/python3.7/dist-packages/seaborn/_decorators.py:43: FutureWarning: Pass the following variable as a keyword arg: x. From version 0.12, the only valid positional argument will be `data`, and passing other arguments without an explicit keyword will result in an error or misinterpretation.\n",
            "  FutureWarning\n"
          ]
        },
        {
          "output_type": "execute_result",
          "data": {
            "text/plain": [
              "<matplotlib.axes._subplots.AxesSubplot at 0x7f7ea9250410>"
            ]
          },
          "metadata": {},
          "execution_count": 28
        },
        {
          "output_type": "display_data",
          "data": {
            "image/png": "[encoded data removed]",
            "text/plain": [
              "<Figure size 432x288 with 1 Axes>"
            ]
          },
          "metadata": {
            "needs_background": "light"
          }
        }
      ]
    },
    {
      "cell_type": "markdown",
      "metadata": {
        "id": "CT_w_kgYDO0e"
      },
      "source": [
        "We can see through the count plot that execersize induced angina has evident impact on CHD, since the number of patients with excersize induced angina has more patients with CHD than vice versa. Additionally, the distribution seems correct."
      ]
    },
    {
      "cell_type": "markdown",
      "metadata": {
        "id": "Xxu8rPn_1OO6"
      },
      "source": [
        "# oldpeak"
      ]
    },
    {
      "cell_type": "code",
      "metadata": {
        "colab": {
          "base_uri": "https://localhost:8080/",
          "height": 357
        },
        "id": "k2yaL6CD1RZs",
        "outputId": "980a043e-5d8a-4106-d753-9d3f595dd5d8"
      },
      "source": [
        "sns.distplot(df[df['oldpeak'] < 30]['oldpeak'])\n",
        "print(df['oldpeak'].skew())"
      ],
      "execution_count": null,
      "outputs": [
        {
          "output_type": "stream",
          "name": "stderr",
          "text": [
            "/usr/local/lib/python3.7/dist-packages/seaborn/distributions.py:2619: FutureWarning: `distplot` is a deprecated function and will be removed in a future version. Please adapt your code to use either `displot` (a figure-level function with similar flexibility) or `histplot` (an axes-level function for histograms).\n",
            "  warnings.warn(msg, FutureWarning)\n"
          ]
        },
        {
          "output_type": "stream",
          "name": "stdout",
          "text": [
            "10.84188376926719\n"
          ]
        },
        {
          "output_type": "display_data",
          "data": {
            "image/png": "[encoded data removed]",
            "text/plain": [
              "<Figure size 432x288 with 1 Axes>"
            ]
          },
          "metadata": {
            "needs_background": "light"
          }
        }
      ]
    },
    {
      "cell_type": "markdown",
      "metadata": {
        "id": "W_bJxNs8FByQ"
      },
      "source": [
        "However, the distribution of the data seems to be left skewed. With most values being at 0."
      ]
    },
    {
      "cell_type": "code",
      "metadata": {
        "colab": {
          "base_uri": "https://localhost:8080/",
          "height": 80
        },
        "id": "gtIy90DiEJ0M",
        "outputId": "eea62925-1269-4e91-b391-9cd954590f12"
      },
      "source": [
        "df[df['oldpeak'] > 10]"
      ],
      "execution_count": null,
      "outputs": [
        {
          "output_type": "execute_result",
          "data": {
            "text/html": [
              "<div>\n",
              "<style scoped>\n",
              "    .dataframe tbody tr th:only-of-type {\n",
              "        vertical-align: middle;\n",
              "    }\n",
              "\n",
              "    .dataframe tbody tr th {\n",
              "        vertical-align: top;\n",
              "    }\n",
              "\n",
              "    .dataframe thead th {\n",
              "        text-align: right;\n",
              "    }\n",
              "</style>\n",
              "<table border=\"1\" class=\"dataframe\">\n",
              "  <thead>\n",
              "    <tr style=\"text-align: right;\">\n",
              "      <th></th>\n",
              "      <th>ID</th>\n",
              "      <th>age</th>\n",
              "      <th>sex</th>\n",
              "      <th>cp</th>\n",
              "      <th>restbps</th>\n",
              "      <th>chol</th>\n",
              "      <th>fbs</th>\n",
              "      <th>restecg</th>\n",
              "      <th>thalack</th>\n",
              "      <th>exang</th>\n",
              "      <th>oldpeak</th>\n",
              "      <th>slope</th>\n",
              "      <th>ca</th>\n",
              "      <th>thal</th>\n",
              "      <th>outcome</th>\n",
              "      <th>chol_group</th>\n",
              "      <th>outcome_new</th>\n",
              "    </tr>\n",
              "  </thead>\n",
              "  <tbody>\n",
              "    <tr>\n",
              "      <th>299</th>\n",
              "      <td>hdoamedn9erxppsut</td>\n",
              "      <td>68.0</td>\n",
              "      <td>1</td>\n",
              "      <td>4</td>\n",
              "      <td>144</td>\n",
              "      <td>193</td>\n",
              "      <td>1</td>\n",
              "      <td>0</td>\n",
              "      <td>141</td>\n",
              "      <td>0</td>\n",
              "      <td>34.0</td>\n",
              "      <td>2</td>\n",
              "      <td>2</td>\n",
              "      <td>7</td>\n",
              "      <td>2</td>\n",
              "      <td>(0, 200]</td>\n",
              "      <td>1</td>\n",
              "    </tr>\n",
              "  </tbody>\n",
              "</table>\n",
              "</div>"
            ],
            "text/plain": [
              "                    ID   age  sex  cp  ...  thal  outcome  chol_group  outcome_new\n",
              "299  hdoamedn9erxppsut  68.0    1   4  ...     7        2    (0, 200]            1\n",
              "\n",
              "[1 rows x 17 columns]"
            ]
          },
          "metadata": {},
          "execution_count": 30
        }
      ]
    },
    {
      "cell_type": "markdown",
      "metadata": {
        "id": "kS3d_bnTEh3H"
      },
      "source": [
        "Ask client what are the range of values for oldpeak, is it possible for a patient to have an oldpeak of 34.0?\n",
        "If it is not possible for a patient to have an oldpeak of 32 we can conclude that it is an outlier and we can remove this row from the dataset."
      ]
    },
    {
      "cell_type": "markdown",
      "metadata": {
        "id": "wJhO7VEn1pyO"
      },
      "source": [
        "# slope"
      ]
    },
    {
      "cell_type": "code",
      "metadata": {
        "colab": {
          "base_uri": "https://localhost:8080/",
          "height": 356
        },
        "id": "EExtNgHN1wDm",
        "outputId": "5bca02f2-c3f4-452a-cba8-44542a0dacc8"
      },
      "source": [
        "sns.countplot(df.slope)"
      ],
      "execution_count": null,
      "outputs": [
        {
          "output_type": "stream",
          "name": "stderr",
          "text": [
            "/usr/local/lib/python3.7/dist-packages/seaborn/_decorators.py:43: FutureWarning: Pass the following variable as a keyword arg: x. From version 0.12, the only valid positional argument will be `data`, and passing other arguments without an explicit keyword will result in an error or misinterpretation.\n",
            "  FutureWarning\n"
          ]
        },
        {
          "output_type": "execute_result",
          "data": {
            "text/plain": [
              "<matplotlib.axes._subplots.AxesSubplot at 0x7f7ea915f8d0>"
            ]
          },
          "metadata": {},
          "execution_count": 31
        },
        {
          "output_type": "display_data",
          "data": {
            "image/png": "[encoded data removed]",
            "text/plain": [
              "<Figure size 432x288 with 1 Axes>"
            ]
          },
          "metadata": {
            "needs_background": "light"
          }
        }
      ]
    },
    {
      "cell_type": "markdown",
      "metadata": {
        "id": "RiB8vWVQ13ig"
      },
      "source": [
        "# ca"
      ]
    },
    {
      "cell_type": "code",
      "metadata": {
        "colab": {
          "base_uri": "https://localhost:8080/",
          "height": 356
        },
        "id": "uPSQxKVO2A-R",
        "outputId": "e3b4eee8-3b8e-450a-f39b-ce4dc3edd2f6"
      },
      "source": [
        "sns.countplot(df.ca)"
      ],
      "execution_count": null,
      "outputs": [
        {
          "output_type": "stream",
          "name": "stderr",
          "text": [
            "/usr/local/lib/python3.7/dist-packages/seaborn/_decorators.py:43: FutureWarning: Pass the following variable as a keyword arg: x. From version 0.12, the only valid positional argument will be `data`, and passing other arguments without an explicit keyword will result in an error or misinterpretation.\n",
            "  FutureWarning\n"
          ]
        },
        {
          "output_type": "execute_result",
          "data": {
            "text/plain": [
              "<matplotlib.axes._subplots.AxesSubplot at 0x7f7ea91c3090>"
            ]
          },
          "metadata": {},
          "execution_count": 32
        },
        {
          "output_type": "display_data",
          "data": {
            "image/png": "[encoded data removed]",
            "text/plain": [
              "<Figure size 432x288 with 1 Axes>"
            ]
          },
          "metadata": {
            "needs_background": "light"
          }
        }
      ]
    },
    {
      "cell_type": "markdown",
      "metadata": {
        "id": "bKX8kI5A13_K"
      },
      "source": [
        "# thal"
      ]
    },
    {
      "cell_type": "code",
      "metadata": {
        "colab": {
          "base_uri": "https://localhost:8080/",
          "height": 356
        },
        "id": "Cgk5rH2e2GqS",
        "outputId": "5e002595-8fc7-4973-c22b-a74212dda6a6"
      },
      "source": [
        "sns.countplot(df.thal)"
      ],
      "execution_count": null,
      "outputs": [
        {
          "output_type": "stream",
          "name": "stderr",
          "text": [
            "/usr/local/lib/python3.7/dist-packages/seaborn/_decorators.py:43: FutureWarning: Pass the following variable as a keyword arg: x. From version 0.12, the only valid positional argument will be `data`, and passing other arguments without an explicit keyword will result in an error or misinterpretation.\n",
            "  FutureWarning\n"
          ]
        },
        {
          "output_type": "execute_result",
          "data": {
            "text/plain": [
              "<matplotlib.axes._subplots.AxesSubplot at 0x7f7ea90ab550>"
            ]
          },
          "metadata": {},
          "execution_count": 33
        },
        {
          "output_type": "display_data",
          "data": {
            "image/png": "[encoded data removed]",
            "text/plain": [
              "<Figure size 432x288 with 1 Axes>"
            ]
          },
          "metadata": {
            "needs_background": "light"
          }
        }
      ]
    },
    {
      "cell_type": "code",
      "metadata": {
        "colab": {
          "base_uri": "https://localhost:8080/",
          "height": 111
        },
        "id": "qWSRwSyh6clR",
        "outputId": "b8101044-9b20-4c98-832d-dc3a2d7f4419"
      },
      "source": [
        "df[df['thal'] == '?']"
      ],
      "execution_count": null,
      "outputs": [
        {
          "output_type": "execute_result",
          "data": {
            "text/html": [
              "<div>\n",
              "<style scoped>\n",
              "    .dataframe tbody tr th:only-of-type {\n",
              "        vertical-align: middle;\n",
              "    }\n",
              "\n",
              "    .dataframe tbody tr th {\n",
              "        vertical-align: top;\n",
              "    }\n",
              "\n",
              "    .dataframe thead th {\n",
              "        text-align: right;\n",
              "    }\n",
              "</style>\n",
              "<table border=\"1\" class=\"dataframe\">\n",
              "  <thead>\n",
              "    <tr style=\"text-align: right;\">\n",
              "      <th></th>\n",
              "      <th>ID</th>\n",
              "      <th>age</th>\n",
              "      <th>sex</th>\n",
              "      <th>cp</th>\n",
              "      <th>restbps</th>\n",
              "      <th>chol</th>\n",
              "      <th>fbs</th>\n",
              "      <th>restecg</th>\n",
              "      <th>thalack</th>\n",
              "      <th>exang</th>\n",
              "      <th>oldpeak</th>\n",
              "      <th>slope</th>\n",
              "      <th>ca</th>\n",
              "      <th>thal</th>\n",
              "      <th>outcome</th>\n",
              "      <th>chol_group</th>\n",
              "      <th>outcome_new</th>\n",
              "    </tr>\n",
              "  </thead>\n",
              "  <tbody>\n",
              "    <tr>\n",
              "      <th>87</th>\n",
              "      <td>hdoamed3uds1bpsut</td>\n",
              "      <td>53.0</td>\n",
              "      <td>0</td>\n",
              "      <td>3</td>\n",
              "      <td>128</td>\n",
              "      <td>216</td>\n",
              "      <td>0</td>\n",
              "      <td>2</td>\n",
              "      <td>115</td>\n",
              "      <td>0</td>\n",
              "      <td>0.0</td>\n",
              "      <td>1</td>\n",
              "      <td>0</td>\n",
              "      <td>?</td>\n",
              "      <td>0</td>\n",
              "      <td>(200, 239]</td>\n",
              "      <td>0</td>\n",
              "    </tr>\n",
              "    <tr>\n",
              "      <th>266</th>\n",
              "      <td>hdoamedst0g3npsut</td>\n",
              "      <td>52.0</td>\n",
              "      <td>1</td>\n",
              "      <td>4</td>\n",
              "      <td>128</td>\n",
              "      <td>204</td>\n",
              "      <td>1</td>\n",
              "      <td>0</td>\n",
              "      <td>156</td>\n",
              "      <td>1</td>\n",
              "      <td>1.0</td>\n",
              "      <td>2</td>\n",
              "      <td>0</td>\n",
              "      <td>?</td>\n",
              "      <td>2</td>\n",
              "      <td>(200, 239]</td>\n",
              "      <td>1</td>\n",
              "    </tr>\n",
              "  </tbody>\n",
              "</table>\n",
              "</div>"
            ],
            "text/plain": [
              "                    ID   age  sex  cp  ...  thal  outcome  chol_group  outcome_new\n",
              "87   hdoamed3uds1bpsut  53.0    0   3  ...     ?        0  (200, 239]            0\n",
              "266  hdoamedst0g3npsut  52.0    1   4  ...     ?        2  (200, 239]            1\n",
              "\n",
              "[2 rows x 17 columns]"
            ]
          },
          "metadata": {},
          "execution_count": 41
        }
      ]
    },
    {
      "cell_type": "markdown",
      "metadata": {
        "id": "0dpdDj7v14Ni"
      },
      "source": [
        "# outcome"
      ]
    },
    {
      "cell_type": "code",
      "metadata": {
        "colab": {
          "base_uri": "https://localhost:8080/",
          "height": 356
        },
        "id": "ppzxRui62Kun",
        "outputId": "871073aa-798a-404f-d1d9-a42fc47202f0"
      },
      "source": [
        "sns.countplot(df.outcome)"
      ],
      "execution_count": null,
      "outputs": [
        {
          "output_type": "stream",
          "name": "stderr",
          "text": [
            "/usr/local/lib/python3.7/dist-packages/seaborn/_decorators.py:43: FutureWarning: Pass the following variable as a keyword arg: x. From version 0.12, the only valid positional argument will be `data`, and passing other arguments without an explicit keyword will result in an error or misinterpretation.\n",
            "  FutureWarning\n"
          ]
        },
        {
          "output_type": "execute_result",
          "data": {
            "text/plain": [
              "<matplotlib.axes._subplots.AxesSubplot at 0x7f7ea9069390>"
            ]
          },
          "metadata": {},
          "execution_count": 34
        },
        {
          "output_type": "display_data",
          "data": {
            "image/png": "[encoded data removed]",
            "text/plain": [
              "<Figure size 432x288 with 1 Axes>"
            ]
          },
          "metadata": {
            "needs_background": "light"
          }
        }
      ]
    },
    {
      "cell_type": "markdown",
      "metadata": {
        "id": "t8ZolctdxtNK"
      },
      "source": [
        "# **Bibliography**"
      ]
    },
    {
      "cell_type": "markdown",
      "metadata": {
        "id": "VpFT-Mlwf-FG"
      },
      "source": [
        "**[1]** P. Jousilahti, E. Vartiainen, J. Tuomilehto, and P. Puska, “Sex, Age, Cardiovascular Risk Factors, and Coronary Heart Disease,” Circulation, vol. 99, no. 9, pp. 1165–1172, 1999.\n",
        "\n",
        "**[2]** S. H. Bots, S. A. E. Peters, and M. Woodward, “Sex differences in coronary heart disease and stroke mortality: a global assessment of the effect of ageing between 1980 and 2010,” BMJ Global Health, vol. 2, no. 2, 2017.\n",
        "\n",
        "**[3]** Harrington HealthCare System. 2021. Typical and Atypical Angina: What to Look For - Harrington HealthCare System. [online] Available at: <https://www.harringtonhospital.org/typical-and-atypical-angina-what-to-look-for/> [Accessed 17 November 2021].\n",
        "\n",
        "**[4]** S. H. Bots, S. A. E. Peters, and M. Woodward, “Sex differences in coronary heart disease and stroke mortality: a global assessment of the effect of ageing between 1980 and 2010,” BMJ Global Health, vol. 2, no. 2, 2017.\n",
        "\n",
        "**[5]** “Cholesterol levels by age: Differences and recommendations,” Medical News Today. [Online]. Available: https://www.medicalnewstoday.com/articles/315900#recommended-levels. [Accessed: 18-Nov-2021].\n",
        "\n",
        "**[6]** Metabolism, “The effect of fasting glucose levels on cardiovascular disease and all-cause mortality,” PracticeUpdate. [Online]. Available: https://www.practiceupdate.com/content/the-effect-of-fasting-glucose-levels-on-cardiovascular-disease-and-all-cause-mortality/52616#:~:text=Impaired%20and%20diabetic%20fasting%20glucose,%2C%20and%20all%2Dcause%20mortality. [Accessed: 18-Nov-2021]. "
      ]
    }
  ]
}