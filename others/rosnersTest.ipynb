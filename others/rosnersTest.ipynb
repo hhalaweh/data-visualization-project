{
 "cells": [
  {
   "cell_type": "code",
   "execution_count": 5,
   "id": "aa37c2df",
   "metadata": {},
   "outputs": [
    {
     "name": "stderr",
     "output_type": "stream",
     "text": [
      "Installing package into ‘/srv/rlibs’\n",
      "(as ‘lib’ is unspecified)\n",
      "\n",
      "also installing the dependency ‘nortest’\n",
      "\n",
      "\n",
      "\n",
      "Attaching package: ‘EnvStats’\n",
      "\n",
      "\n",
      "The following objects are masked from ‘package:stats’:\n",
      "\n",
      "    predict, predict.lm\n",
      "\n",
      "\n",
      "The following object is masked from ‘package:base’:\n",
      "\n",
      "    print.default\n",
      "\n",
      "\n"
     ]
    }
   ],
   "source": [
    "library(tidyverse)\n",
    "install.packages(\"EnvStats\")\n",
    "library(\"EnvStats\")"
   ]
  },
  {
   "cell_type": "code",
   "execution_count": 3,
   "id": "c7575ac2",
   "metadata": {},
   "outputs": [
    {
     "name": "stderr",
     "output_type": "stream",
     "text": [
      "Parsed with column specification:\n",
      "cols(\n",
      "  ID = \u001b[31mcol_character()\u001b[39m,\n",
      "  age = \u001b[32mcol_double()\u001b[39m,\n",
      "  sex = \u001b[32mcol_double()\u001b[39m,\n",
      "  cp = \u001b[32mcol_double()\u001b[39m,\n",
      "  restbps = \u001b[32mcol_double()\u001b[39m,\n",
      "  chol = \u001b[32mcol_double()\u001b[39m,\n",
      "  fbs = \u001b[32mcol_double()\u001b[39m,\n",
      "  restecg = \u001b[32mcol_double()\u001b[39m,\n",
      "  thalack = \u001b[32mcol_number()\u001b[39m,\n",
      "  exang = \u001b[32mcol_double()\u001b[39m,\n",
      "  oldpeak = \u001b[32mcol_double()\u001b[39m,\n",
      "  slope = \u001b[32mcol_double()\u001b[39m,\n",
      "  ca = \u001b[31mcol_character()\u001b[39m,\n",
      "  thal = \u001b[31mcol_character()\u001b[39m,\n",
      "  outcome = \u001b[32mcol_double()\u001b[39m\n",
      ")\n",
      "\n"
     ]
    }
   ],
   "source": [
    "df <- read_csv(\"Heart Diseases.csv\")"
   ]
  },
  {
   "cell_type": "code",
   "execution_count": 9,
   "id": "35a2e505",
   "metadata": {},
   "outputs": [
    {
     "data": {
      "text/plain": [
       "\n",
       "Results of Outlier Test\n",
       "-------------------------\n",
       "\n",
       "Test Method:                     Rosner's Test for Outliers\n",
       "\n",
       "Hypothesized Distribution:       Normal\n",
       "\n",
       "Data:                            df$age\n",
       "\n",
       "Sample Size:                     310\n",
       "\n",
       "Test Statistic:                  R.1 = 5.160707\n",
       "\n",
       "Test Statistic Parameter:        k = 1\n",
       "\n",
       "Alternative Hypothesis:          Up to 1 observations are not\n",
       "                                 from the same Distribution.\n",
       "\n",
       "Type I Error:                    5%\n",
       "\n",
       "Number of Outliers Detected:     1\n",
       "\n",
       "  i   Mean.i    SD.i Value Obs.Num    R.i+1 lambda.i+1 Outlier\n",
       "1 0 54.22484 9.40275   5.7     251 5.160707   3.732797    TRUE\n",
       "\n"
      ]
     },
     "metadata": {},
     "output_type": "display_data"
    },
    {
     "data": {
      "text/html": [
       "<table class=\"dataframe\">\n",
       "<caption>A data.frame: 1 × 8</caption>\n",
       "<thead>\n",
       "\t<tr><th scope=col>i</th><th scope=col>Mean.i</th><th scope=col>SD.i</th><th scope=col>Value</th><th scope=col>Obs.Num</th><th scope=col>R.i+1</th><th scope=col>lambda.i+1</th><th scope=col>Outlier</th></tr>\n",
       "\t<tr><th scope=col>&lt;dbl&gt;</th><th scope=col>&lt;dbl&gt;</th><th scope=col>&lt;dbl&gt;</th><th scope=col>&lt;dbl&gt;</th><th scope=col>&lt;dbl&gt;</th><th scope=col>&lt;dbl&gt;</th><th scope=col>&lt;dbl&gt;</th><th scope=col>&lt;lgl&gt;</th></tr>\n",
       "</thead>\n",
       "<tbody>\n",
       "\t<tr><td>0</td><td>54.22484</td><td>9.40275</td><td>5.7</td><td>251</td><td>5.160707</td><td>3.732797</td><td>TRUE</td></tr>\n",
       "</tbody>\n",
       "</table>\n"
      ],
      "text/latex": [
       "A data.frame: 1 × 8\n",
       "\\begin{tabular}{llllllll}\n",
       " i & Mean.i & SD.i & Value & Obs.Num & R.i+1 & lambda.i+1 & Outlier\\\\\n",
       " <dbl> & <dbl> & <dbl> & <dbl> & <dbl> & <dbl> & <dbl> & <lgl>\\\\\n",
       "\\hline\n",
       "\t 0 & 54.22484 & 9.40275 & 5.7 & 251 & 5.160707 & 3.732797 & TRUE\\\\\n",
       "\\end{tabular}\n"
      ],
      "text/markdown": [
       "\n",
       "A data.frame: 1 × 8\n",
       "\n",
       "| i &lt;dbl&gt; | Mean.i &lt;dbl&gt; | SD.i &lt;dbl&gt; | Value &lt;dbl&gt; | Obs.Num &lt;dbl&gt; | R.i+1 &lt;dbl&gt; | lambda.i+1 &lt;dbl&gt; | Outlier &lt;lgl&gt; |\n",
       "|---|---|---|---|---|---|---|---|\n",
       "| 0 | 54.22484 | 9.40275 | 5.7 | 251 | 5.160707 | 3.732797 | TRUE |\n",
       "\n"
      ],
      "text/plain": [
       "  i Mean.i   SD.i    Value Obs.Num R.i+1    lambda.i+1 Outlier\n",
       "1 0 54.22484 9.40275 5.7   251     5.160707 3.732797   TRUE   "
      ]
     },
     "metadata": {},
     "output_type": "display_data"
    }
   ],
   "source": [
    "test <- rosnerTest(df$age,k = 1) # Number of suspected outliers is 3\n",
    "test                                # Default alpha = 0.05\n",
    "\n",
    "test$all.stats"
   ]
  },
  {
   "cell_type": "code",
   "execution_count": 10,
   "id": "373686ad",
   "metadata": {},
   "outputs": [
    {
     "data": {
      "text/plain": [
       "\n",
       "Results of Outlier Test\n",
       "-------------------------\n",
       "\n",
       "Test Method:                     Rosner's Test for Outliers\n",
       "\n",
       "Hypothesized Distribution:       Normal\n",
       "\n",
       "Data:                            df$restbps\n",
       "\n",
       "Sample Size:                     310\n",
       "\n",
       "Test Statistics:                 R.1 = 3.896870\n",
       "                                 R.2 = 3.536394\n",
       "                                 R.3 = 2.902962\n",
       "                                 R.4 = 2.948555\n",
       "                                 R.5 = 2.996367\n",
       "                                 R.6 = 2.922986\n",
       "\n",
       "Test Statistic Parameter:        k = 6\n",
       "\n",
       "Alternative Hypothesis:          Up to 6 observations are not\n",
       "                                 from the same Distribution.\n",
       "\n",
       "Type I Error:                    5%\n",
       "\n",
       "Number of Outliers Detected:     1\n",
       "\n",
       "  i   Mean.i     SD.i Value Obs.Num    R.i+1 lambda.i+1 Outlier\n",
       "1 0 131.6000 17.55255   200     127 3.896870   3.732797    TRUE\n",
       "2 1 131.3786 17.14214   192     189 3.536394   3.731888   FALSE\n",
       "3 2 131.1818 16.81668   180      84 2.902962   3.730976   FALSE\n",
       "4 3 131.0228 16.61058   180     202 2.948555   3.730060   FALSE\n",
       "5 4 130.8627 16.39894   180     232 2.996367   3.729141   FALSE\n",
       "6 5 130.7016 16.18152   178     184 2.922986   3.728219   FALSE\n",
       "\n"
      ]
     },
     "metadata": {},
     "output_type": "display_data"
    },
    {
     "data": {
      "text/html": [
       "<table class=\"dataframe\">\n",
       "<caption>A data.frame: 6 × 8</caption>\n",
       "<thead>\n",
       "\t<tr><th scope=col>i</th><th scope=col>Mean.i</th><th scope=col>SD.i</th><th scope=col>Value</th><th scope=col>Obs.Num</th><th scope=col>R.i+1</th><th scope=col>lambda.i+1</th><th scope=col>Outlier</th></tr>\n",
       "\t<tr><th scope=col>&lt;dbl&gt;</th><th scope=col>&lt;dbl&gt;</th><th scope=col>&lt;dbl&gt;</th><th scope=col>&lt;dbl&gt;</th><th scope=col>&lt;dbl&gt;</th><th scope=col>&lt;dbl&gt;</th><th scope=col>&lt;dbl&gt;</th><th scope=col>&lt;lgl&gt;</th></tr>\n",
       "</thead>\n",
       "<tbody>\n",
       "\t<tr><td>0</td><td>131.6000</td><td>17.55255</td><td>200</td><td>127</td><td>3.896870</td><td>3.732797</td><td> TRUE</td></tr>\n",
       "\t<tr><td>1</td><td>131.3786</td><td>17.14214</td><td>192</td><td>189</td><td>3.536394</td><td>3.731888</td><td>FALSE</td></tr>\n",
       "\t<tr><td>2</td><td>131.1818</td><td>16.81668</td><td>180</td><td> 84</td><td>2.902962</td><td>3.730976</td><td>FALSE</td></tr>\n",
       "\t<tr><td>3</td><td>131.0228</td><td>16.61058</td><td>180</td><td>202</td><td>2.948555</td><td>3.730060</td><td>FALSE</td></tr>\n",
       "\t<tr><td>4</td><td>130.8627</td><td>16.39894</td><td>180</td><td>232</td><td>2.996367</td><td>3.729141</td><td>FALSE</td></tr>\n",
       "\t<tr><td>5</td><td>130.7016</td><td>16.18152</td><td>178</td><td>184</td><td>2.922986</td><td>3.728219</td><td>FALSE</td></tr>\n",
       "</tbody>\n",
       "</table>\n"
      ],
      "text/latex": [
       "A data.frame: 6 × 8\n",
       "\\begin{tabular}{llllllll}\n",
       " i & Mean.i & SD.i & Value & Obs.Num & R.i+1 & lambda.i+1 & Outlier\\\\\n",
       " <dbl> & <dbl> & <dbl> & <dbl> & <dbl> & <dbl> & <dbl> & <lgl>\\\\\n",
       "\\hline\n",
       "\t 0 & 131.6000 & 17.55255 & 200 & 127 & 3.896870 & 3.732797 &  TRUE\\\\\n",
       "\t 1 & 131.3786 & 17.14214 & 192 & 189 & 3.536394 & 3.731888 & FALSE\\\\\n",
       "\t 2 & 131.1818 & 16.81668 & 180 &  84 & 2.902962 & 3.730976 & FALSE\\\\\n",
       "\t 3 & 131.0228 & 16.61058 & 180 & 202 & 2.948555 & 3.730060 & FALSE\\\\\n",
       "\t 4 & 130.8627 & 16.39894 & 180 & 232 & 2.996367 & 3.729141 & FALSE\\\\\n",
       "\t 5 & 130.7016 & 16.18152 & 178 & 184 & 2.922986 & 3.728219 & FALSE\\\\\n",
       "\\end{tabular}\n"
      ],
      "text/markdown": [
       "\n",
       "A data.frame: 6 × 8\n",
       "\n",
       "| i &lt;dbl&gt; | Mean.i &lt;dbl&gt; | SD.i &lt;dbl&gt; | Value &lt;dbl&gt; | Obs.Num &lt;dbl&gt; | R.i+1 &lt;dbl&gt; | lambda.i+1 &lt;dbl&gt; | Outlier &lt;lgl&gt; |\n",
       "|---|---|---|---|---|---|---|---|\n",
       "| 0 | 131.6000 | 17.55255 | 200 | 127 | 3.896870 | 3.732797 |  TRUE |\n",
       "| 1 | 131.3786 | 17.14214 | 192 | 189 | 3.536394 | 3.731888 | FALSE |\n",
       "| 2 | 131.1818 | 16.81668 | 180 |  84 | 2.902962 | 3.730976 | FALSE |\n",
       "| 3 | 131.0228 | 16.61058 | 180 | 202 | 2.948555 | 3.730060 | FALSE |\n",
       "| 4 | 130.8627 | 16.39894 | 180 | 232 | 2.996367 | 3.729141 | FALSE |\n",
       "| 5 | 130.7016 | 16.18152 | 178 | 184 | 2.922986 | 3.728219 | FALSE |\n",
       "\n"
      ],
      "text/plain": [
       "  i Mean.i   SD.i     Value Obs.Num R.i+1    lambda.i+1 Outlier\n",
       "1 0 131.6000 17.55255 200   127     3.896870 3.732797    TRUE  \n",
       "2 1 131.3786 17.14214 192   189     3.536394 3.731888   FALSE  \n",
       "3 2 131.1818 16.81668 180    84     2.902962 3.730976   FALSE  \n",
       "4 3 131.0228 16.61058 180   202     2.948555 3.730060   FALSE  \n",
       "5 4 130.8627 16.39894 180   232     2.996367 3.729141   FALSE  \n",
       "6 5 130.7016 16.18152 178   184     2.922986 3.728219   FALSE  "
      ]
     },
     "metadata": {},
     "output_type": "display_data"
    }
   ],
   "source": [
    "test <- rosnerTest(df$restbps,k = 6) # Number of suspected outliers is 3\n",
    "test                                # Default alpha = 0.05\n",
    "\n",
    "test$all.stats"
   ]
  },
  {
   "cell_type": "code",
   "execution_count": 11,
   "id": "003987ad",
   "metadata": {},
   "outputs": [
    {
     "data": {
      "text/plain": [
       "\n",
       "Results of Outlier Test\n",
       "-------------------------\n",
       "\n",
       "Test Method:                     Rosner's Test for Outliers\n",
       "\n",
       "Hypothesized Distribution:       Normal\n",
       "\n",
       "Data:                            df$chol\n",
       "\n",
       "Sample Size:                     310\n",
       "\n",
       "Test Statistics:                 R.1 = 16.950460\n",
       "                                 R.2 =  6.207276\n",
       "                                 R.3 =  3.582807\n",
       "                                 R.4 =  3.496165\n",
       "\n",
       "Test Statistic Parameter:        k = 4\n",
       "\n",
       "Alternative Hypothesis:          Up to 4 observations are not\n",
       "                                 from the same Distribution.\n",
       "\n",
       "Type I Error:                    5%\n",
       "\n",
       "Number of Outliers Detected:     2\n",
       "\n",
       "  i   Mean.i      SD.i Value Obs.Num     R.i+1 lambda.i+1 Outlier\n",
       "1 0 257.0548 197.21856  3600      76 16.950460   3.732797    TRUE\n",
       "2 1 246.2362  51.19214   564     153  6.207276   3.731888    TRUE\n",
       "3 2 245.2045  47.94996   417      49  3.582807   3.730976   FALSE\n",
       "4 3 244.6450  47.01009   409     182  3.496165   3.730060   FALSE\n",
       "\n"
      ]
     },
     "metadata": {},
     "output_type": "display_data"
    },
    {
     "data": {
      "text/html": [
       "<table class=\"dataframe\">\n",
       "<caption>A data.frame: 4 × 8</caption>\n",
       "<thead>\n",
       "\t<tr><th scope=col>i</th><th scope=col>Mean.i</th><th scope=col>SD.i</th><th scope=col>Value</th><th scope=col>Obs.Num</th><th scope=col>R.i+1</th><th scope=col>lambda.i+1</th><th scope=col>Outlier</th></tr>\n",
       "\t<tr><th scope=col>&lt;dbl&gt;</th><th scope=col>&lt;dbl&gt;</th><th scope=col>&lt;dbl&gt;</th><th scope=col>&lt;dbl&gt;</th><th scope=col>&lt;dbl&gt;</th><th scope=col>&lt;dbl&gt;</th><th scope=col>&lt;dbl&gt;</th><th scope=col>&lt;lgl&gt;</th></tr>\n",
       "</thead>\n",
       "<tbody>\n",
       "\t<tr><td>0</td><td>257.0548</td><td>197.21856</td><td>3600</td><td> 76</td><td>16.950460</td><td>3.732797</td><td> TRUE</td></tr>\n",
       "\t<tr><td>1</td><td>246.2362</td><td> 51.19214</td><td> 564</td><td>153</td><td> 6.207276</td><td>3.731888</td><td> TRUE</td></tr>\n",
       "\t<tr><td>2</td><td>245.2045</td><td> 47.94996</td><td> 417</td><td> 49</td><td> 3.582807</td><td>3.730976</td><td>FALSE</td></tr>\n",
       "\t<tr><td>3</td><td>244.6450</td><td> 47.01009</td><td> 409</td><td>182</td><td> 3.496165</td><td>3.730060</td><td>FALSE</td></tr>\n",
       "</tbody>\n",
       "</table>\n"
      ],
      "text/latex": [
       "A data.frame: 4 × 8\n",
       "\\begin{tabular}{llllllll}\n",
       " i & Mean.i & SD.i & Value & Obs.Num & R.i+1 & lambda.i+1 & Outlier\\\\\n",
       " <dbl> & <dbl> & <dbl> & <dbl> & <dbl> & <dbl> & <dbl> & <lgl>\\\\\n",
       "\\hline\n",
       "\t 0 & 257.0548 & 197.21856 & 3600 &  76 & 16.950460 & 3.732797 &  TRUE\\\\\n",
       "\t 1 & 246.2362 &  51.19214 &  564 & 153 &  6.207276 & 3.731888 &  TRUE\\\\\n",
       "\t 2 & 245.2045 &  47.94996 &  417 &  49 &  3.582807 & 3.730976 & FALSE\\\\\n",
       "\t 3 & 244.6450 &  47.01009 &  409 & 182 &  3.496165 & 3.730060 & FALSE\\\\\n",
       "\\end{tabular}\n"
      ],
      "text/markdown": [
       "\n",
       "A data.frame: 4 × 8\n",
       "\n",
       "| i &lt;dbl&gt; | Mean.i &lt;dbl&gt; | SD.i &lt;dbl&gt; | Value &lt;dbl&gt; | Obs.Num &lt;dbl&gt; | R.i+1 &lt;dbl&gt; | lambda.i+1 &lt;dbl&gt; | Outlier &lt;lgl&gt; |\n",
       "|---|---|---|---|---|---|---|---|\n",
       "| 0 | 257.0548 | 197.21856 | 3600 |  76 | 16.950460 | 3.732797 |  TRUE |\n",
       "| 1 | 246.2362 |  51.19214 |  564 | 153 |  6.207276 | 3.731888 |  TRUE |\n",
       "| 2 | 245.2045 |  47.94996 |  417 |  49 |  3.582807 | 3.730976 | FALSE |\n",
       "| 3 | 244.6450 |  47.01009 |  409 | 182 |  3.496165 | 3.730060 | FALSE |\n",
       "\n"
      ],
      "text/plain": [
       "  i Mean.i   SD.i      Value Obs.Num R.i+1     lambda.i+1 Outlier\n",
       "1 0 257.0548 197.21856 3600   76     16.950460 3.732797    TRUE  \n",
       "2 1 246.2362  51.19214  564  153      6.207276 3.731888    TRUE  \n",
       "3 2 245.2045  47.94996  417   49      3.582807 3.730976   FALSE  \n",
       "4 3 244.6450  47.01009  409  182      3.496165 3.730060   FALSE  "
      ]
     },
     "metadata": {},
     "output_type": "display_data"
    }
   ],
   "source": [
    "test <- rosnerTest(df$chol,k = 4) # Number of suspected outliers is 3\n",
    "test                                # Default alpha = 0.05\n",
    "\n",
    "test$all.stats"
   ]
  },
  {
   "cell_type": "code",
   "execution_count": 12,
   "id": "da753458",
   "metadata": {},
   "outputs": [
    {
     "data": {
      "text/plain": [
       "\n",
       "Results of Outlier Test\n",
       "-------------------------\n",
       "\n",
       "Test Method:                     Rosner's Test for Outliers\n",
       "\n",
       "Hypothesized Distribution:       Normal\n",
       "\n",
       "Data:                            df$thalack\n",
       "\n",
       "Sample Size:                     310\n",
       "\n",
       "Test Statistic:                  R.1 = 3.423899\n",
       "\n",
       "Test Statistic Parameter:        k = 1\n",
       "\n",
       "Alternative Hypothesis:          Up to 1 observations are not\n",
       "                                 from the same Distribution.\n",
       "\n",
       "Type I Error:                    5%\n",
       "\n",
       "Number of Outliers Detected:     0\n",
       "\n",
       "  i   Mean.i     SD.i Value Obs.Num    R.i+1 lambda.i+1 Outlier\n",
       "1 0 149.3516 22.88374    71     246 3.423899   3.732797   FALSE\n",
       "\n"
      ]
     },
     "metadata": {},
     "output_type": "display_data"
    },
    {
     "data": {
      "text/html": [
       "<table class=\"dataframe\">\n",
       "<caption>A data.frame: 1 × 8</caption>\n",
       "<thead>\n",
       "\t<tr><th scope=col>i</th><th scope=col>Mean.i</th><th scope=col>SD.i</th><th scope=col>Value</th><th scope=col>Obs.Num</th><th scope=col>R.i+1</th><th scope=col>lambda.i+1</th><th scope=col>Outlier</th></tr>\n",
       "\t<tr><th scope=col>&lt;dbl&gt;</th><th scope=col>&lt;dbl&gt;</th><th scope=col>&lt;dbl&gt;</th><th scope=col>&lt;dbl&gt;</th><th scope=col>&lt;dbl&gt;</th><th scope=col>&lt;dbl&gt;</th><th scope=col>&lt;dbl&gt;</th><th scope=col>&lt;lgl&gt;</th></tr>\n",
       "</thead>\n",
       "<tbody>\n",
       "\t<tr><td>0</td><td>149.3516</td><td>22.88374</td><td>71</td><td>246</td><td>3.423899</td><td>3.732797</td><td>FALSE</td></tr>\n",
       "</tbody>\n",
       "</table>\n"
      ],
      "text/latex": [
       "A data.frame: 1 × 8\n",
       "\\begin{tabular}{llllllll}\n",
       " i & Mean.i & SD.i & Value & Obs.Num & R.i+1 & lambda.i+1 & Outlier\\\\\n",
       " <dbl> & <dbl> & <dbl> & <dbl> & <dbl> & <dbl> & <dbl> & <lgl>\\\\\n",
       "\\hline\n",
       "\t 0 & 149.3516 & 22.88374 & 71 & 246 & 3.423899 & 3.732797 & FALSE\\\\\n",
       "\\end{tabular}\n"
      ],
      "text/markdown": [
       "\n",
       "A data.frame: 1 × 8\n",
       "\n",
       "| i &lt;dbl&gt; | Mean.i &lt;dbl&gt; | SD.i &lt;dbl&gt; | Value &lt;dbl&gt; | Obs.Num &lt;dbl&gt; | R.i+1 &lt;dbl&gt; | lambda.i+1 &lt;dbl&gt; | Outlier &lt;lgl&gt; |\n",
       "|---|---|---|---|---|---|---|---|\n",
       "| 0 | 149.3516 | 22.88374 | 71 | 246 | 3.423899 | 3.732797 | FALSE |\n",
       "\n"
      ],
      "text/plain": [
       "  i Mean.i   SD.i     Value Obs.Num R.i+1    lambda.i+1 Outlier\n",
       "1 0 149.3516 22.88374 71    246     3.423899 3.732797   FALSE  "
      ]
     },
     "metadata": {},
     "output_type": "display_data"
    }
   ],
   "source": [
    "test <- rosnerTest(df$thalack,k = 1) # Number of suspected outliers is 3\n",
    "test                                # Default alpha = 0.05\n",
    "\n",
    "test$all.stats"
   ]
  },
  {
   "cell_type": "code",
   "execution_count": 13,
   "id": "5b12b916",
   "metadata": {},
   "outputs": [
    {
     "data": {
      "text/plain": [
       "\n",
       "Results of Outlier Test\n",
       "-------------------------\n",
       "\n",
       "Test Method:                     Rosner's Test for Outliers\n",
       "\n",
       "Hypothesized Distribution:       Normal\n",
       "\n",
       "Data:                            df$oldpeak\n",
       "\n",
       "Sample Size:                     310\n",
       "\n",
       "Test Statistics:                 R.1 = 14.857380\n",
       "                                 R.2 =  4.367117\n",
       "                                 R.3 =  3.991825\n",
       "                                 R.4 =  4.106653\n",
       "                                 R.5 =  3.126272\n",
       "\n",
       "Test Statistic Parameter:        k = 5\n",
       "\n",
       "Alternative Hypothesis:          Up to 5 observations are not\n",
       "                                 from the same Distribution.\n",
       "\n",
       "Type I Error:                    5%\n",
       "\n",
       "Number of Outliers Detected:     4\n",
       "\n",
       "  i   Mean.i     SD.i Value Obs.Num     R.i+1 lambda.i+1 Outlier\n",
       "1 0 1.160000 2.210349  34.0     300 14.857380   3.732797    TRUE\n",
       "2 1 1.053722 1.178415   6.2      92  4.367117   3.731888    TRUE\n",
       "3 2 1.037013 1.143083   5.6     124  3.991825   3.730976    TRUE\n",
       "4 3 1.022150 1.114740   5.6     309  4.106653   3.730060    TRUE\n",
       "5 4 1.007190 1.085258   4.4     286  3.126272   3.729141   FALSE\n",
       "\n"
      ]
     },
     "metadata": {},
     "output_type": "display_data"
    },
    {
     "data": {
      "text/html": [
       "<table class=\"dataframe\">\n",
       "<caption>A data.frame: 5 × 8</caption>\n",
       "<thead>\n",
       "\t<tr><th scope=col>i</th><th scope=col>Mean.i</th><th scope=col>SD.i</th><th scope=col>Value</th><th scope=col>Obs.Num</th><th scope=col>R.i+1</th><th scope=col>lambda.i+1</th><th scope=col>Outlier</th></tr>\n",
       "\t<tr><th scope=col>&lt;dbl&gt;</th><th scope=col>&lt;dbl&gt;</th><th scope=col>&lt;dbl&gt;</th><th scope=col>&lt;dbl&gt;</th><th scope=col>&lt;dbl&gt;</th><th scope=col>&lt;dbl&gt;</th><th scope=col>&lt;dbl&gt;</th><th scope=col>&lt;lgl&gt;</th></tr>\n",
       "</thead>\n",
       "<tbody>\n",
       "\t<tr><td>0</td><td>1.160000</td><td>2.210349</td><td>34.0</td><td>300</td><td>14.857380</td><td>3.732797</td><td> TRUE</td></tr>\n",
       "\t<tr><td>1</td><td>1.053722</td><td>1.178415</td><td> 6.2</td><td> 92</td><td> 4.367117</td><td>3.731888</td><td> TRUE</td></tr>\n",
       "\t<tr><td>2</td><td>1.037013</td><td>1.143083</td><td> 5.6</td><td>124</td><td> 3.991825</td><td>3.730976</td><td> TRUE</td></tr>\n",
       "\t<tr><td>3</td><td>1.022150</td><td>1.114740</td><td> 5.6</td><td>309</td><td> 4.106653</td><td>3.730060</td><td> TRUE</td></tr>\n",
       "\t<tr><td>4</td><td>1.007190</td><td>1.085258</td><td> 4.4</td><td>286</td><td> 3.126272</td><td>3.729141</td><td>FALSE</td></tr>\n",
       "</tbody>\n",
       "</table>\n"
      ],
      "text/latex": [
       "A data.frame: 5 × 8\n",
       "\\begin{tabular}{llllllll}\n",
       " i & Mean.i & SD.i & Value & Obs.Num & R.i+1 & lambda.i+1 & Outlier\\\\\n",
       " <dbl> & <dbl> & <dbl> & <dbl> & <dbl> & <dbl> & <dbl> & <lgl>\\\\\n",
       "\\hline\n",
       "\t 0 & 1.160000 & 2.210349 & 34.0 & 300 & 14.857380 & 3.732797 &  TRUE\\\\\n",
       "\t 1 & 1.053722 & 1.178415 &  6.2 &  92 &  4.367117 & 3.731888 &  TRUE\\\\\n",
       "\t 2 & 1.037013 & 1.143083 &  5.6 & 124 &  3.991825 & 3.730976 &  TRUE\\\\\n",
       "\t 3 & 1.022150 & 1.114740 &  5.6 & 309 &  4.106653 & 3.730060 &  TRUE\\\\\n",
       "\t 4 & 1.007190 & 1.085258 &  4.4 & 286 &  3.126272 & 3.729141 & FALSE\\\\\n",
       "\\end{tabular}\n"
      ],
      "text/markdown": [
       "\n",
       "A data.frame: 5 × 8\n",
       "\n",
       "| i &lt;dbl&gt; | Mean.i &lt;dbl&gt; | SD.i &lt;dbl&gt; | Value &lt;dbl&gt; | Obs.Num &lt;dbl&gt; | R.i+1 &lt;dbl&gt; | lambda.i+1 &lt;dbl&gt; | Outlier &lt;lgl&gt; |\n",
       "|---|---|---|---|---|---|---|---|\n",
       "| 0 | 1.160000 | 2.210349 | 34.0 | 300 | 14.857380 | 3.732797 |  TRUE |\n",
       "| 1 | 1.053722 | 1.178415 |  6.2 |  92 |  4.367117 | 3.731888 |  TRUE |\n",
       "| 2 | 1.037013 | 1.143083 |  5.6 | 124 |  3.991825 | 3.730976 |  TRUE |\n",
       "| 3 | 1.022150 | 1.114740 |  5.6 | 309 |  4.106653 | 3.730060 |  TRUE |\n",
       "| 4 | 1.007190 | 1.085258 |  4.4 | 286 |  3.126272 | 3.729141 | FALSE |\n",
       "\n"
      ],
      "text/plain": [
       "  i Mean.i   SD.i     Value Obs.Num R.i+1     lambda.i+1 Outlier\n",
       "1 0 1.160000 2.210349 34.0  300     14.857380 3.732797    TRUE  \n",
       "2 1 1.053722 1.178415  6.2   92      4.367117 3.731888    TRUE  \n",
       "3 2 1.037013 1.143083  5.6  124      3.991825 3.730976    TRUE  \n",
       "4 3 1.022150 1.114740  5.6  309      4.106653 3.730060    TRUE  \n",
       "5 4 1.007190 1.085258  4.4  286      3.126272 3.729141   FALSE  "
      ]
     },
     "metadata": {},
     "output_type": "display_data"
    }
   ],
   "source": [
    "test <- rosnerTest(df$oldpeak,k = 5) # Number of suspected outliers is 3\n",
    "test                                # Default alpha = 0.05\n",
    "\n",
    "test$all.stats"
   ]
  },
  {
   "cell_type": "code",
   "execution_count": null,
   "id": "6c8297de",
   "metadata": {},
   "outputs": [],
   "source": []
  }
 ],
 "metadata": {
  "kernelspec": {
   "display_name": "R",
   "language": "R",
   "name": "ir"
  },
  "language_info": {
   "codemirror_mode": "r",
   "file_extension": ".r",
   "mimetype": "text/x-r-source",
   "name": "R",
   "pygments_lexer": "r",
   "version": "3.6.3"
  }
 },
 "nbformat": 4,
 "nbformat_minor": 5
}
