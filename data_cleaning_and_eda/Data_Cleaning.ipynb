{
  "nbformat": 4,
  "nbformat_minor": 0,
  "metadata": {
    "colab": {
      "name": "Data Cleaning.ipynb",
      "provenance": [],
      "collapsed_sections": []
    },
    "kernelspec": {
      "name": "python3",
      "display_name": "Python 3"
    },
    "language_info": {
      "name": "python"
    }
  },
  "cells": [
    {
      "cell_type": "code",
      "metadata": {
        "id": "kmWcy8pm9Nb1"
      },
      "source": [
        "import pandas as pd\n",
        "import seaborn as sns"
      ],
      "execution_count": null,
      "outputs": []
    },
    {
      "cell_type": "code",
      "metadata": {
        "id": "1tii2Ml09dNt"
      },
      "source": [
        "df = pd.read_csv('/content/Heart Diseases.csv')"
      ],
      "execution_count": null,
      "outputs": []
    },
    {
      "cell_type": "markdown",
      "metadata": {
        "id": "ofF-tUID9i-c"
      },
      "source": [
        "# Object Columns"
      ]
    },
    {
      "cell_type": "markdown",
      "metadata": {
        "id": "k18VZ45J_yTq"
      },
      "source": [
        "thalack"
      ]
    },
    {
      "cell_type": "code",
      "metadata": {
        "colab": {
          "base_uri": "https://localhost:8080/"
        },
        "id": "5zTNBk0k9gNK",
        "outputId": "e70a82b9-e440-4ede-c36c-df633d7cd9ee"
      },
      "source": [
        "df.loc[65,'thalack'] = 142\n",
        "df.loc[19,'thalack'] = 171\n",
        "df['thalack'] = df['thalack'].astype(str).astype(int)\n",
        "print(df.dtypes)"
      ],
      "execution_count": null,
      "outputs": [
        {
          "output_type": "stream",
          "name": "stdout",
          "text": [
            "ID          object\n",
            "age        float64\n",
            "sex          int64\n",
            "cp           int64\n",
            "restbps      int64\n",
            "chol         int64\n",
            "fbs          int64\n",
            "restecg      int64\n",
            "thalack      int64\n",
            "exang        int64\n",
            "oldpeak    float64\n",
            "slope        int64\n",
            "ca          object\n",
            "thal        object\n",
            "outcome      int64\n",
            "dtype: object\n"
          ]
        }
      ]
    },
    {
      "cell_type": "markdown",
      "metadata": {
        "id": "RI3pvX3L_4g5"
      },
      "source": [
        "ca"
      ]
    },
    {
      "cell_type": "code",
      "metadata": {
        "colab": {
          "base_uri": "https://localhost:8080/"
        },
        "id": "XR0h4LdPFgMA",
        "outputId": "3b5b56ef-e503-45f4-cf85-03bb63241ba9"
      },
      "source": [
        "c = 0\n",
        "for i,x in df.iterrows():\n",
        "  if(x['ca'] == 1 and x['outcome'] == 0):\n",
        "    c = c+1\n",
        "print(c)"
      ],
      "execution_count": null,
      "outputs": [
        {
          "output_type": "stream",
          "name": "stdout",
          "text": [
            "0\n"
          ]
        }
      ]
    },
    {
      "cell_type": "code",
      "metadata": {
        "id": "MZnsGx2_AB44"
      },
      "source": [
        "df['ca'] = df['ca'].replace({'?':  df['outcome'].mode()[0]})\n",
        "df['ca'] = df['ca'].astype(str).astype(int)"
      ],
      "execution_count": null,
      "outputs": []
    },
    {
      "cell_type": "code",
      "metadata": {
        "colab": {
          "base_uri": "https://localhost:8080/"
        },
        "id": "MCt_RSjjFZC-",
        "outputId": "1e352718-91ee-4688-d600-78847da8769e"
      },
      "source": [
        "print(df.dtypes)"
      ],
      "execution_count": null,
      "outputs": [
        {
          "output_type": "stream",
          "name": "stdout",
          "text": [
            "ID          object\n",
            "age        float64\n",
            "sex          int64\n",
            "cp           int64\n",
            "restbps      int64\n",
            "chol         int64\n",
            "fbs          int64\n",
            "restecg      int64\n",
            "thalack      int64\n",
            "exang        int64\n",
            "oldpeak    float64\n",
            "slope        int64\n",
            "ca           int64\n",
            "thal        object\n",
            "outcome      int64\n",
            "dtype: object\n"
          ]
        }
      ]
    },
    {
      "cell_type": "markdown",
      "metadata": {
        "id": "XxEBzV0xFnPw"
      },
      "source": [
        "thal"
      ]
    },
    {
      "cell_type": "code",
      "metadata": {
        "id": "xXfO-ucDFpTB"
      },
      "source": [
        "df[df['thal'] == '?']\n",
        "df['thal'] = df['thal'].replace({'?':df['thal'].mode()[0]})"
      ],
      "execution_count": null,
      "outputs": []
    },
    {
      "cell_type": "code",
      "metadata": {
        "id": "wc03Tn6qGsfy"
      },
      "source": [
        "df['thal'] = df['thal'].astype(str).astype(int)"
      ],
      "execution_count": null,
      "outputs": []
    }
  ]
}