{
  "nbformat": 4,
  "nbformat_minor": 0,
  "metadata": {
    "colab": {
      "name": "EDA.ipynb",
      "provenance": [],
      "collapsed_sections": []
    },
    "kernelspec": {
      "name": "python3",
      "display_name": "Python 3"
    },
    "language_info": {
      "name": "python"
    }
  },
  "cells": [
    {
      "cell_type": "markdown",
      "metadata": {
        "id": "WvnLTboUy-At"
      },
      "source": [
        "This notebook is used for exploratory data analysis, make sure you use the cleaned dataset from the \"Data Cleaning.ipynb\" notebook."
      ]
    },
    {
      "cell_type": "code",
      "metadata": {
        "id": "u6HD7b2Ly9LZ"
      },
      "source": [
        ""
      ],
      "execution_count": null,
      "outputs": []
    }
  ]
}