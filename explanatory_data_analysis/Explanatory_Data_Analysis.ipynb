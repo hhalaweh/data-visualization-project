{
  "cells": [
    {
      "cell_type": "markdown",
      "metadata": {
        "id": "WvnLTboUy-At"
      },
      "source": [
        "This notebook is used for explanatory data analysis, make sure you use the cleaned dataset from the \"Data_Cleaning.ipynb\" notebook."
      ]
    },
    {
      "cell_type": "code",
      "execution_count": null,
      "metadata": {
        "id": "u6HD7b2Ly9LZ"
      },
      "outputs": [],
      "source": []
    }
  ],
  "metadata": {
    "colab": {
      "collapsed_sections": [],
      "name": "EDA.ipynb",
      "provenance": []
    },
    "kernelspec": {
      "display_name": "Python 3",
      "name": "python3"
    },
    "language_info": {
      "name": "python"
    }
  },
  "nbformat": 4,
  "nbformat_minor": 0
}
